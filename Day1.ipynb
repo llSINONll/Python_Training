{
 "cells": [
  {
   "cell_type": "code",
   "execution_count": 3,
   "id": "d7034271",
   "metadata": {},
   "outputs": [
    {
     "name": "stdout",
     "output_type": "stream",
     "text": [
      "2207972393264 2207972393328 2207972393264\n",
      "2207972393264 2208065770160 2207972393264\n"
     ]
    }
   ],
   "source": [
    "x=3\n",
    "y=5\n",
    "z=3\n",
    "print(id(x),id(y),id(z))   #use id for checking the address\n",
    "y=\"Hello\"  #reassigning hence address gets changed\n",
    "print(id(x),id(y),id(z))"
   ]
  },
  {
   "cell_type": "code",
   "execution_count": null,
   "id": "cbf92a7e",
   "metadata": {},
   "outputs": [
    {
     "name": "stdout",
     "output_type": "stream",
     "text": [
      "Your name is: hello \n",
      "Your Age is: 4 \n",
      "Your Height is: 3.4\n"
     ]
    }
   ],
   "source": [
    "name = input(\"Enter Your Name: \")\n",
    "age = int(input(\"Enter your age: \"))\n",
    "height = float(input(\"Enter Your Height: \"))\n",
    "\n",
    "print(f\"Your name is: {name} \\nYour Age is: {age} \\nYour Height is: {height}\")"
   ]
  },
  {
   "cell_type": "code",
   "execution_count": null,
   "id": "109051bd",
   "metadata": {},
   "outputs": [],
   "source": [
    "name = eval(input(\"Enter Your Name: \"))\n",
    "age = eval(input(\"Enter your age: \"))\n",
    "height = eval(input(\"Enter Your Height: \"))\n",
    "\n",
    "print(f\"Your name is: {name} \\nYour Age is: {age} \\nYour Height is: {height}\")"
   ]
  },
  {
   "cell_type": "markdown",
   "id": "c34bddaa",
   "metadata": {},
   "source": [
    "WAP Which will take length and the width of a rectangle as an input and calculate their area and perimeter"
   ]
  },
  {
   "cell_type": "code",
   "execution_count": 3,
   "id": "3d09f667",
   "metadata": {},
   "outputs": [
    {
     "name": "stdout",
     "output_type": "stream",
     "text": [
      "Area of the Rectangle is:- 200\n",
      "Perimeter of the Rectangle is:- 60\n"
     ]
    }
   ],
   "source": [
    "length = eval(input(\"Enter the length:- \"))\n",
    "width = eval(input(\"Enter the width:- \"))\n",
    "area = length * width \n",
    "perimeter = 2*(length + width)\n",
    "print(f\"Area of the Rectangle is:- {area}\")\n",
    "print(f\"Perimeter of the Rectangle is:- {perimeter}\")"
   ]
  },
  {
   "cell_type": "markdown",
   "id": "be8981d0",
   "metadata": {},
   "source": [
    "WAP Which will take base and the height of a triangle as an input and calculate their area"
   ]
  },
  {
   "cell_type": "code",
   "execution_count": 4,
   "id": "96665dc0",
   "metadata": {},
   "outputs": [
    {
     "name": "stdout",
     "output_type": "stream",
     "text": [
      "Area of the Triangle:- 20.0\n"
     ]
    }
   ],
   "source": [
    "base = eval(input(\"Enter the Base of the Triangle:- \"))\n",
    "height = eval(input(\"Enter the Height of the Triangle:- \"))\n",
    "area = 0.5*base*height\n",
    "print(f\"Area of the Triangle:- {area}\")"
   ]
  },
  {
   "cell_type": "markdown",
   "id": "369c3175",
   "metadata": {},
   "source": [
    "WAP which will take 8 as an input from an user and print if the user can vote or not"
   ]
  },
  {
   "cell_type": "code",
   "execution_count": null,
   "id": "95c5cbce",
   "metadata": {},
   "outputs": [
    {
     "name": "stdout",
     "output_type": "stream",
     "text": [
      "can't vote\n"
     ]
    }
   ],
   "source": [
    "age = eval(input(\"Enter the age:- \"))\n",
    "if age>=18:\n",
    "  print(\"can vote\")\n",
    "else:\n",
    "  print(\"can't vote\")"
   ]
  },
  {
   "cell_type": "markdown",
   "id": "4265ecd0",
   "metadata": {},
   "source": [
    "WAP which will take a no. as an input from an user and check whether the no. is +ve, -ve or 0"
   ]
  },
  {
   "cell_type": "code",
   "execution_count": 9,
   "id": "469a32bb",
   "metadata": {},
   "outputs": [
    {
     "name": "stdout",
     "output_type": "stream",
     "text": [
      "No. is 0\n"
     ]
    }
   ],
   "source": [
    "no=eval(input(\"Enter a no.:- \"))\n",
    "if no>0:\n",
    "  print(\"No. is +ve\")\n",
    "elif no<0:\n",
    "  print(\"No. is -ve\")\n",
    "else:\n",
    "  print(\"No. is 0\")"
   ]
  },
  {
   "cell_type": "markdown",
   "id": "f2cd86cb",
   "metadata": {},
   "source": [
    "WAP and take an input from the user then print child for 0-12, Teen for 13-19, Adult for 20-45, Senior for 45+ Without and and or"
   ]
  },
  {
   "cell_type": "code",
   "execution_count": 14,
   "id": "22f6e4b2",
   "metadata": {},
   "outputs": [
    {
     "name": "stdout",
     "output_type": "stream",
     "text": [
      "Child\n"
     ]
    }
   ],
   "source": [
    "age = int(input(\"Enter the age:- \"))\n",
    "if age<0:\n",
    "  print(\"Age can't be Negative give again\")\n",
    "elif age<=12:\n",
    "  print(\"Child\")\n",
    "elif age<=19:\n",
    "  print(\"Teen\")\n",
    "elif age<=45:\n",
    "  print(\"Adult\")\n",
    "else:\n",
    "  print(\"Senior\")"
   ]
  },
  {
   "cell_type": "markdown",
   "id": "50b1215a",
   "metadata": {},
   "source": [
    "Q1. WAP which will take 3 no.s as an input from the user and print them into the ascending order"
   ]
  },
  {
   "cell_type": "code",
   "execution_count": 11,
   "id": "512a300d",
   "metadata": {},
   "outputs": [
    {
     "name": "stdout",
     "output_type": "stream",
     "text": [
      "12 44 312\n"
     ]
    }
   ],
   "source": [
    "no1=int(input(\"Enter the first no.:- \"))\n",
    "no2=int(input(\"Enter the second no.:- \"))\n",
    "no3=int(input(\"Enter the third no.:- \"))\n",
    "\n",
    "if no1>=no2 and no1>=no3:\n",
    "  if no2>=no3:\n",
    "    print(no3,no2,no1)\n",
    "  elif no3>=no2:\n",
    "    print(no2,no3,no1)\n",
    "elif no2>=no1 and no2>=no3:\n",
    "  if no3>=no1:\n",
    "    print(no1,no3,no2)\n",
    "  elif no1>=no3:\n",
    "    print(no3,no1,no2)\n",
    "else:\n",
    "  if no2>=no1:\n",
    "    print(no1,no2,no3)\n",
    "  elif no1>=no2:\n",
    "    print(no2,no1,no3)"
   ]
  },
  {
   "cell_type": "markdown",
   "id": "7c13791f",
   "metadata": {},
   "source": [
    "Q2. WAP which will take a no. as an input from the user if the no. is divisible by 3 it'll print \"FIZZ\" if it is divisible by 5 print \"BUZZ\" and if it divisible by both print \"FIZZ BUZZ\" if it is neither divisible by any of the options print \"Not Divisible\""
   ]
  },
  {
   "cell_type": "code",
   "execution_count": 16,
   "id": "ea56e33b",
   "metadata": {},
   "outputs": [
    {
     "name": "stdout",
     "output_type": "stream",
     "text": [
      "BUZZ!!\n"
     ]
    }
   ],
   "source": [
    "no=int(input(\"Enter the no.:- \"))\n",
    "if no%3==0 and no%5==0:\n",
    "  print(\"FIZZ BUZZ!!\")\n",
    "elif no%3==0:\n",
    "  print(\"FIZZ!!\")\n",
    "elif no%5==0:\n",
    "  print(\"BUZZ!!\")\n",
    "else:\n",
    "  print(\"Not Divisible!!\")"
   ]
  },
  {
   "cell_type": "markdown",
   "id": "7c282771",
   "metadata": {},
   "source": []
  }
 ],
 "metadata": {
  "kernelspec": {
   "display_name": "Python 3",
   "language": "python",
   "name": "python3"
  },
  "language_info": {
   "codemirror_mode": {
    "name": "ipython",
    "version": 3
   },
   "file_extension": ".py",
   "mimetype": "text/x-python",
   "name": "python",
   "nbconvert_exporter": "python",
   "pygments_lexer": "ipython3",
   "version": "3.10.0"
  }
 },
 "nbformat": 4,
 "nbformat_minor": 5
}
