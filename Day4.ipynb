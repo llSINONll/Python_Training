{
 "cells": [
  {
   "cell_type": "markdown",
   "id": "90efa2c9",
   "metadata": {},
   "source": [
    "WAP which will add all the no. in between 10 to 55 but it'll skip all the no.s which are divisible 3 and 5:- "
   ]
  },
  {
   "cell_type": "code",
   "execution_count": 4,
   "id": "2bf3df74",
   "metadata": {},
   "outputs": [
    {
     "name": "stdout",
     "output_type": "stream",
     "text": [
      "Sum:-  765\n"
     ]
    }
   ],
   "source": [
    "sum = 0\n",
    "for i in range(10,56,1):\n",
    "  if i%3==0 or i%5==0:\n",
    "    continue\n",
    "  else:\n",
    "    sum+=i\n",
    "print(\"Sum:- \", sum)\n"
   ]
  },
  {
   "cell_type": "markdown",
   "id": "696afa66",
   "metadata": {},
   "source": [
    "WAP which will print multiplication of all the even and odd factors of a given no:-"
   ]
  },
  {
   "cell_type": "code",
   "execution_count": null,
   "id": "e23499af",
   "metadata": {},
   "outputs": [
    {
     "ename": "SyntaxError",
     "evalue": "invalid syntax (1914376263.py, line 8)",
     "output_type": "error",
     "traceback": [
      "\u001b[1;36m  Cell \u001b[1;32mIn[11], line 8\u001b[1;36m\u001b[0m\n\u001b[1;33m    elif no%i == 0:\u001b[0m\n\u001b[1;37m    ^\u001b[0m\n\u001b[1;31mSyntaxError\u001b[0m\u001b[1;31m:\u001b[0m invalid syntax\n"
     ]
    }
   ],
   "source": [
    "no = int(input(\"Enter the no:- \"))\n",
    "odd_mul = 1\n",
    "even_mul = 1\n",
    "for i in range(1,no+1,1):\n",
    "  if no%i == 0:\n",
    "    if i%2==0:\n",
    "      even_mul*=i\n",
    "    else:\n",
    "      odd_mul*=i\n",
    "\n",
    "print(\"Odd mul:- \", odd_mul)\n",
    "print(\"Even mul:- \", even_mul)"
   ]
  }
 ],
 "metadata": {
  "kernelspec": {
   "display_name": "Python 3",
   "language": "python",
   "name": "python3"
  },
  "language_info": {
   "codemirror_mode": {
    "name": "ipython",
    "version": 3
   },
   "file_extension": ".py",
   "mimetype": "text/x-python",
   "name": "python",
   "nbconvert_exporter": "python",
   "pygments_lexer": "ipython3",
   "version": "3.10.0"
  }
 },
 "nbformat": 4,
 "nbformat_minor": 5
}
