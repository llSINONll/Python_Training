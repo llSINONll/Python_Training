{
 "cells": [
  {
   "cell_type": "markdown",
   "id": "d36b17de",
   "metadata": {},
   "source": [
    "Q1. Find the sum of the prime no.s in a list and take the input from user of a list of unit no.s"
   ]
  },
  {
   "cell_type": "code",
   "execution_count": null,
   "id": "e63aa755",
   "metadata": {},
   "outputs": [
    {
     "name": "stdout",
     "output_type": "stream",
     "text": [
      "17\n"
     ]
    }
   ],
   "source": [
    "def prime(l):\n",
    "  sum = 0 \n",
    "  for no in l:\n",
    "    if no == 2 or no == 3 or no == 5 or no == 7:\n",
    "      sum+=no\n",
    "  return sum\n",
    "    \n",
    "l = [1,2,3,4,5,6,7,8,9]\n",
    "sum = prime(l)\n",
    "print(sum)"
   ]
  },
  {
   "cell_type": "code",
   "execution_count": null,
   "id": "27cdc722",
   "metadata": {},
   "outputs": [
    {
     "name": "stdout",
     "output_type": "stream",
     "text": [
      "Your name and id is:- Sahil, 168\n",
      "Your age is:- 21\n"
     ]
    }
   ],
   "source": [
    "def print_info(name, id1, age):\n",
    "  print(f\"Your name and id is:- {name}, {id1}\")\n",
    "  print(f\"Your age is:- {age}\")\n",
    "  \n",
    "print_info(name=\"Sahil\", age = 21, id1=168)\n"
   ]
  },
  {
   "cell_type": "code",
   "execution_count": null,
   "id": "d2a28770",
   "metadata": {},
   "outputs": [
    {
     "name": "stdout",
     "output_type": "stream",
     "text": [
      "Sum is:-  3\n",
      "Multiplication is:-  2\n"
     ]
    }
   ],
   "source": [
    "def sum(a, b):\n",
    "  print(\"Sum is:- \",a+b)\n",
    "\n",
    "def mul(a, b):\n",
    "  print(\"Multiplication is:- \",a*b)\n",
    "\n",
    "a = int(input(\"Enter the first no.:- \"))\n",
    "b = int(input(\"Enter the second no.:- \"))\n",
    "sum(a,b)\n",
    "mul(a,b)"
   ]
  },
  {
   "cell_type": "code",
   "execution_count": null,
   "id": "7ff37f91",
   "metadata": {},
   "outputs": [
    {
     "name": "stdout",
     "output_type": "stream",
     "text": [
      "Sum is:-  3\n",
      "Multiplication is:-  2\n"
     ]
    }
   ],
   "source": [
    "def sum(*temp):  #using *temp to store the multiple values from user in a tuple\n",
    "  sum=0\n",
    "  for i in temp:\n",
    "    sum+=i\n",
    "  print(\"Sum is:- \",sum)\n",
    "\n",
    "def mul(*temp):\n",
    "  mul=1\n",
    "  for i in temp:\n",
    "    mul*=i\n",
    "  print(\"Multiplication is:- \",mul)\n",
    "\n",
    "a = int(input(\"Enter the first no.:- \"))\n",
    "b = int(input(\"Enter the second no.:- \"))\n",
    "sum(a,b)\n",
    "mul(a,b)"
   ]
  },
  {
   "cell_type": "markdown",
   "id": "e29026ea",
   "metadata": {},
   "source": [
    "Lambda Function:- (Anonymous function) lambda argument:expression it returns a function"
   ]
  },
  {
   "cell_type": "code",
   "execution_count": 6,
   "id": "fbb07bcb",
   "metadata": {},
   "outputs": [
    {
     "name": "stdout",
     "output_type": "stream",
     "text": [
      "27\n"
     ]
    }
   ],
   "source": [
    "print((lambda x:x**3)(3))"
   ]
  },
  {
   "cell_type": "markdown",
   "id": "ffcff461",
   "metadata": {},
   "source": [
    "make a lambda function which checks if the give no. is even or odd"
   ]
  },
  {
   "cell_type": "code",
   "execution_count": 12,
   "id": "8051d7b6",
   "metadata": {},
   "outputs": [
    {
     "name": "stdout",
     "output_type": "stream",
     "text": [
      "Even\n"
     ]
    }
   ],
   "source": [
    "print((lambda x: \"Even\" if x%2==0 else \"Odd\")(2))"
   ]
  },
  {
   "cell_type": "markdown",
   "id": "9c27b10a",
   "metadata": {},
   "source": [
    "Take a unit digit no. from the user and check if it is prime or not from lambda function"
   ]
  },
  {
   "cell_type": "code",
   "execution_count": 13,
   "id": "08c02307",
   "metadata": {},
   "outputs": [
    {
     "name": "stdout",
     "output_type": "stream",
     "text": [
      "Not Prime\n"
     ]
    }
   ],
   "source": [
    "print((lambda x: \"Prime\" if x==2 or x==3 or x==5 or x==7 else \"Not Prime\")(8))"
   ]
  },
  {
   "cell_type": "markdown",
   "id": "790da29a",
   "metadata": {},
   "source": [
    "Higher Order Functions:- a function which returns a function or we pass functions as an argument ; map, filter, reduce"
   ]
  },
  {
   "cell_type": "markdown",
   "id": "114fd9da",
   "metadata": {},
   "source": [
    "~map() ; syntax = map(function, sequence)"
   ]
  },
  {
   "cell_type": "code",
   "execution_count": 14,
   "id": "4e426c68",
   "metadata": {},
   "outputs": [
    {
     "name": "stdout",
     "output_type": "stream",
     "text": [
      "[1, 4, 9, 16, 25, 36, 49, 64, 81]\n"
     ]
    }
   ],
   "source": [
    "lst = [1,2,3,4,5,6,7,8,9]\n",
    "x = list(map(lambda x:x**2, lst))\n",
    "print(x)"
   ]
  },
  {
   "cell_type": "markdown",
   "id": "15f9a486",
   "metadata": {},
   "source": [
    "calculate the area of the circle according to the list given"
   ]
  },
  {
   "cell_type": "code",
   "execution_count": 15,
   "id": "11d3f1ee",
   "metadata": {},
   "outputs": [
    {
     "name": "stdout",
     "output_type": "stream",
     "text": [
      "[4.90625, 32.556776000000006, 68.773536, 376.49385, 1741.4518500000004, 452.16]\n"
     ]
    }
   ],
   "source": [
    "lst = [1.25,3.22,4.68,10.95,23.55,12]\n",
    "area_list = list(map(lambda x:3.14*(x**2), lst))\n",
    "print(area_list)"
   ]
  },
  {
   "cell_type": "markdown",
   "id": "2ae86b89",
   "metadata": {},
   "source": [
    "Print the list of the length of a list of the string"
   ]
  },
  {
   "cell_type": "code",
   "execution_count": 16,
   "id": "a31a52ee",
   "metadata": {},
   "outputs": [
    {
     "name": "stdout",
     "output_type": "stream",
     "text": [
      "[5, 3, 2]\n"
     ]
    }
   ],
   "source": [
    "lst = [\"Hello\", \"bye\", \"hi\"]\n",
    "len_lst = list(map(lambda x:len(x), lst))\n",
    "print(len_lst)"
   ]
  },
  {
   "cell_type": "markdown",
   "id": "ff3a19e6",
   "metadata": {},
   "source": [
    "~filter() "
   ]
  },
  {
   "cell_type": "code",
   "execution_count": 17,
   "id": "2b369155",
   "metadata": {},
   "outputs": [
    {
     "name": "stdout",
     "output_type": "stream",
     "text": [
      "[5, 6, 8, 7]\n"
     ]
    }
   ],
   "source": [
    "lst = [2,4,5,2,2,6,8,7]\n",
    "var = list(filter(lambda x: x>4, lst))\n",
    "print(var)"
   ]
  },
  {
   "cell_type": "markdown",
   "id": "a9c11882",
   "metadata": {},
   "source": [
    "Given a list of String keep the words which starts from \"a\" or \"A\" in the list "
   ]
  },
  {
   "cell_type": "code",
   "execution_count": null,
   "id": "e0c726c4",
   "metadata": {},
   "outputs": [
    {
     "name": "stdout",
     "output_type": "stream",
     "text": [
      "['apple', 'Aeroplane']\n"
     ]
    }
   ],
   "source": [
    "lst = [\"Hello\",\"apple\", \"Banana\", \"hye\", \"Aeroplane\"]\n",
    "var = list(filter(lambda x: \"a\" == x[0] or \"A\" == x[0], lst))\n",
    "print(var)"
   ]
  },
  {
   "cell_type": "markdown",
   "id": "a8734805",
   "metadata": {},
   "source": [
    "~reduce()"
   ]
  },
  {
   "cell_type": "code",
   "execution_count": 20,
   "id": "2b605725",
   "metadata": {},
   "outputs": [
    {
     "name": "stdout",
     "output_type": "stream",
     "text": [
      "35\n"
     ]
    }
   ],
   "source": [
    "#return the sum of list:\n",
    "from functools import reduce\n",
    "l = [2,3,4,5,6,7,8]\n",
    "y = reduce(lambda x,y:x+y, l)\n",
    "print(y)"
   ]
  },
  {
   "cell_type": "markdown",
   "id": "4c37ba67",
   "metadata": {},
   "source": [
    "Find the maximum no. in a list using reduce"
   ]
  },
  {
   "cell_type": "code",
   "execution_count": 24,
   "id": "87dd4503",
   "metadata": {},
   "outputs": [
    {
     "name": "stdout",
     "output_type": "stream",
     "text": [
      "123\n"
     ]
    }
   ],
   "source": [
    "l = [12,4,25,2,64,3,5,6,0,123,56]\n",
    "z = reduce(lambda x,y:max(x,y), l)\n",
    "print(z)"
   ]
  },
  {
   "cell_type": "code",
   "execution_count": 25,
   "id": "9e719002",
   "metadata": {},
   "outputs": [
    {
     "name": "stdout",
     "output_type": "stream",
     "text": [
      "123\n"
     ]
    }
   ],
   "source": [
    "l = [12,4,25,2,64,3,5,6,0,123,56]\n",
    "z = reduce(lambda x,y:x if x>y else y, l)\n",
    "print(z)"
   ]
  },
  {
   "cell_type": "markdown",
   "id": "a28f9670",
   "metadata": {},
   "source": [
    "WAP to reverse the keys and value of a give dictionary using dictionary comprehension:- \n",
    "Dictionary:= {'x':1, 'y':2, 'z':3}\n",
    "Expected OP:= {1:'x', 2:'y', 3:'z'}\n"
   ]
  },
  {
   "cell_type": "code",
   "execution_count": 34,
   "id": "5f1cfd02",
   "metadata": {},
   "outputs": [
    {
     "name": "stdout",
     "output_type": "stream",
     "text": [
      "{1: 'x', 2: 'y', 3: 'z'}\n"
     ]
    }
   ],
   "source": [
    "dictionary = {'x':1, 'y':2, 'z':3}\n",
    "d1 = {j:i for i,j in dictionary.items()}\n",
    "print(d1)"
   ]
  }
 ],
 "metadata": {
  "kernelspec": {
   "display_name": "Python 3",
   "language": "python",
   "name": "python3"
  },
  "language_info": {
   "codemirror_mode": {
    "name": "ipython",
    "version": 3
   },
   "file_extension": ".py",
   "mimetype": "text/x-python",
   "name": "python",
   "nbconvert_exporter": "python",
   "pygments_lexer": "ipython3",
   "version": "3.10.0"
  }
 },
 "nbformat": 4,
 "nbformat_minor": 5
}
