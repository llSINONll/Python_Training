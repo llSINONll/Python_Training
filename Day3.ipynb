{
 "cells": [
  {
   "cell_type": "markdown",
   "id": "0c713f7d",
   "metadata": {},
   "source": [
    "Q. Check a no. have how many even and odd digits:"
   ]
  },
  {
   "cell_type": "code",
   "execution_count": 2,
   "id": "7f8f5208",
   "metadata": {},
   "outputs": [
    {
     "name": "stdout",
     "output_type": "stream",
     "text": [
      "No. of Even digits:-  2\n",
      "No. of Odd digits:-  1\n"
     ]
    }
   ],
   "source": [
    "no = int(input(\"Enter a number:- \"))\n",
    "even=0\n",
    "odd=0\n",
    "while no!=0:\n",
    "  r=no%10\n",
    "  if r%2==0:\n",
    "    even+=1\n",
    "  else:\n",
    "    odd+=1\n",
    "  no=no//10\n",
    "\n",
    "print(\"No. of Even digits:- \", even)\n",
    "print(\"No. of Odd digits:- \", odd)"
   ]
  },
  {
   "cell_type": "markdown",
   "id": "a010562b",
   "metadata": {},
   "source": [
    "Q. WAP which will take a number as an input from an user and check whether given no. is a prime no. or not"
   ]
  },
  {
   "cell_type": "code",
   "execution_count": 19,
   "id": "0d7b984f",
   "metadata": {},
   "outputs": [
    {
     "name": "stdout",
     "output_type": "stream",
     "text": [
      "It is not a Prime No.\n"
     ]
    }
   ],
   "source": [
    "no = int(input(\"Enter a no.:- \"))\n",
    "factor = 1\n",
    "i = 1\n",
    "while i<=no:\n",
    "  if no%2==0:\n",
    "    factor+=1\n",
    "  i+=1\n",
    "\n",
    "if factor==2 and factor > 1:\n",
    "  print(\"It is a Prime No.\")\n",
    "else:\n",
    "  print(\"It is not a Prime No.\")"
   ]
  },
  {
   "cell_type": "code",
   "execution_count": 20,
   "id": "edaaad1d",
   "metadata": {},
   "outputs": [
    {
     "name": "stdout",
     "output_type": "stream",
     "text": [
      "Prime\n"
     ]
    }
   ],
   "source": [
    "#more optimized code with while else loop:- \n",
    "no = int(input(\"Enter a no:- \"))\n",
    "i=2\n",
    "while i<no**0.5:   #can use no/2 too which is less optimized\n",
    "  if no%i == 0:\n",
    "    print(\"Not Prime\")\n",
    "    break\n",
    "  i+=1\n",
    "else:\n",
    "  print(\"Prime\")"
   ]
  },
  {
   "cell_type": "markdown",
   "id": "a94a652d",
   "metadata": {},
   "source": [
    "WAP which will take two no.s as an input from an user and find the LCM both the no."
   ]
  },
  {
   "cell_type": "code",
   "execution_count": null,
   "id": "ea9e0cd6",
   "metadata": {},
   "outputs": [
    {
     "name": "stdout",
     "output_type": "stream",
     "text": [
      "24\n"
     ]
    }
   ],
   "source": [
    "no1 = int(input(\"Enter the no.1:- \"))\n",
    "no2 = int(input(\"Enter the no.2:- \"))\n",
    "lcm = 1\n",
    "i=no1\n",
    "while i!=no1*no2+1:\n",
    "  if i%no1 == 0 and i%no2 == 0:\n",
    "    lcm *= i\n",
    "    break\n",
    "  i+=1\n",
    "\n",
    "print(lcm)\n"
   ]
  },
  {
   "cell_type": "markdown",
   "id": "e8612207",
   "metadata": {},
   "source": [
    "WAP which will take two no.s as an input from an user and find the HCF both the no."
   ]
  },
  {
   "cell_type": "code",
   "execution_count": 7,
   "id": "9bf2f476",
   "metadata": {},
   "outputs": [
    {
     "name": "stdout",
     "output_type": "stream",
     "text": [
      "6\n"
     ]
    }
   ],
   "source": [
    "no1 = int(input(\"Enter the no.1:- \"))\n",
    "no2 = int(input(\"Enter the no.2:- \"))\n",
    "hcf = 1\n",
    "i=no1\n",
    "while i!=1:\n",
    "  if no1%i == 0 and no2%i == 0:\n",
    "    hcf *= i\n",
    "    break\n",
    "  i-=1\n",
    "\n",
    "print(hcf)"
   ]
  },
  {
   "cell_type": "markdown",
   "id": "555032fb",
   "metadata": {},
   "source": [
    "For Loop:- (*Do all the above while loop questions from the for loop too)"
   ]
  },
  {
   "cell_type": "markdown",
   "id": "2731f287",
   "metadata": {},
   "source": [
    "Print Odd no.s"
   ]
  },
  {
   "cell_type": "code",
   "execution_count": 8,
   "id": "4894ec55",
   "metadata": {},
   "outputs": [
    {
     "name": "stdout",
     "output_type": "stream",
     "text": [
      "1 3 5 7 9 11 13 15 17 19 "
     ]
    }
   ],
   "source": [
    "for i in range(1,21,2):\n",
    "  print(i, end=\" \")"
   ]
  },
  {
   "cell_type": "markdown",
   "id": "a60a694b",
   "metadata": {},
   "source": [
    "Sum of all even no.s and odd no.s between 1-20"
   ]
  },
  {
   "cell_type": "code",
   "execution_count": 9,
   "id": "1bd3ecdb",
   "metadata": {},
   "outputs": [
    {
     "name": "stdout",
     "output_type": "stream",
     "text": [
      "Even sum:-  110\n",
      "Odd sum:-  100\n"
     ]
    }
   ],
   "source": [
    "even = 0\n",
    "odd = 0\n",
    "for i in range(1,21,1):\n",
    "  if i%2==0:\n",
    "    even+=i\n",
    "  else:\n",
    "    odd+=i\n",
    "\n",
    "print(\"Even sum:- \", even)\n",
    "print(\"Odd sum:- \", odd)"
   ]
  },
  {
   "cell_type": "markdown",
   "id": "9bf6ffb9",
   "metadata": {},
   "source": [
    "WAP which will print sum of all the odd no.s between 25 to 70"
   ]
  },
  {
   "cell_type": "code",
   "execution_count": null,
   "id": "f947de95",
   "metadata": {},
   "outputs": [
    {
     "name": "stdout",
     "output_type": "stream",
     "text": [
      "25\n",
      "27\n",
      "29\n",
      "31\n",
      "33\n",
      "35\n",
      "37\n",
      "39\n",
      "41\n",
      "43\n",
      "45\n",
      "47\n",
      "49\n",
      "51\n",
      "53\n",
      "55\n",
      "57\n",
      "59\n",
      "61\n",
      "63\n",
      "65\n",
      "67\n",
      "69\n",
      "Odd no. sum:-  1081\n"
     ]
    }
   ],
   "source": [
    "sum = 0\n",
    "for i in range(25, 71, 2):\n",
    "  sum+=i\n",
    "print(\"Odd no. sum:- \", sum)"
   ]
  },
  {
   "cell_type": "markdown",
   "id": "18bd9745",
   "metadata": {},
   "source": [
    "Q1. WAP which will take a no as an input from an user and print factors of that no. using for Loop"
   ]
  },
  {
   "cell_type": "code",
   "execution_count": 3,
   "id": "4946ed5f",
   "metadata": {},
   "outputs": [
    {
     "name": "stdout",
     "output_type": "stream",
     "text": [
      "1\n",
      "2\n",
      "3\n",
      "4\n",
      "6\n",
      "12\n"
     ]
    }
   ],
   "source": [
    "no = int(input(\"Enter a no.:- \"))\n",
    "for i in range(1,no+1,1):\n",
    "  if no%i == 0:\n",
    "    print(i)"
   ]
  },
  {
   "cell_type": "markdown",
   "id": "5c4ef82d",
   "metadata": {},
   "source": [
    "Q2. Count of even and odd factors using for loop"
   ]
  },
  {
   "cell_type": "code",
   "execution_count": 4,
   "id": "9979f757",
   "metadata": {},
   "outputs": [
    {
     "name": "stdout",
     "output_type": "stream",
     "text": [
      "Odd Factor:-  1\n",
      "Even Factor:-  2\n",
      "Odd Factor:-  3\n",
      "Even Factor:-  4\n",
      "Even Factor:-  6\n"
     ]
    }
   ],
   "source": [
    "no = int(input(\"Enter the no.:- \"))\n",
    "for i in range(1,no,1):\n",
    "  if no%i==0:\n",
    "    if i%2==0:\n",
    "      print(\"Even Factor:- \", i)\n",
    "    else:\n",
    "      print(\"Odd Factor:- \", i)"
   ]
  },
  {
   "cell_type": "markdown",
   "id": "5060d7c8",
   "metadata": {},
   "source": [
    "Q3. Count factorial using a for loop"
   ]
  },
  {
   "cell_type": "code",
   "execution_count": 10,
   "id": "a529e959",
   "metadata": {},
   "outputs": [
    {
     "name": "stdout",
     "output_type": "stream",
     "text": [
      "Factorial is:-  120\n"
     ]
    }
   ],
   "source": [
    "no = int(input(\"Enter a no.:- \"))\n",
    "fact = 1\n",
    "for i in range(1,no+1,1):\n",
    "  fact*=i\n",
    "\n",
    "print(\"Factorial is:- \", fact)"
   ]
  },
  {
   "cell_type": "markdown",
   "id": "f1cfb211",
   "metadata": {},
   "source": [
    "Q4. Find the LCM of 2 no.s with the for loop"
   ]
  },
  {
   "cell_type": "code",
   "execution_count": 11,
   "id": "f7201119",
   "metadata": {},
   "outputs": [
    {
     "name": "stdout",
     "output_type": "stream",
     "text": [
      "LCM is:-  35\n"
     ]
    }
   ],
   "source": [
    "no1 = int(input(\"Enter the first no.:- \"))\n",
    "no2 = int(input(\"Enter the second no.:- \"))\n",
    "lcm = 1\n",
    "for i in range(no1,no1*no2+1,1):\n",
    "  if i%no1 == 0 and i%no2 == 0:\n",
    "    lcm*=i\n",
    "    break\n",
    "print(\"LCM is:- \", lcm)"
   ]
  },
  {
   "cell_type": "markdown",
   "id": "34053189",
   "metadata": {},
   "source": [
    "Q5. Find the HCF of 2 no.s with the for loop"
   ]
  },
  {
   "cell_type": "code",
   "execution_count": 14,
   "id": "57cace79",
   "metadata": {},
   "outputs": [
    {
     "name": "stdout",
     "output_type": "stream",
     "text": [
      "HCF is:-  6\n"
     ]
    }
   ],
   "source": [
    "no1 = int(input(\"Enter the first no.:- \"))\n",
    "no2 = int(input(\"Enter the second no.:- \"))\n",
    "hcf = 1\n",
    "\n",
    "for i in range(no1,1,-1):\n",
    "  if no1%i==0 and no2%i==0:\n",
    "    hcf*=i\n",
    "    break\n",
    "print(\"HCF is:- \", hcf)"
   ]
  }
 ],
 "metadata": {
  "kernelspec": {
   "display_name": "Python 3",
   "language": "python",
   "name": "python3"
  },
  "language_info": {
   "codemirror_mode": {
    "name": "ipython",
    "version": 3
   },
   "file_extension": ".py",
   "mimetype": "text/x-python",
   "name": "python",
   "nbconvert_exporter": "python",
   "pygments_lexer": "ipython3",
   "version": "3.10.0"
  }
 },
 "nbformat": 4,
 "nbformat_minor": 5
}
