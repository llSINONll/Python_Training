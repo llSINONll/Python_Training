{
 "cells": [
  {
   "cell_type": "markdown",
   "id": "8f0becd2",
   "metadata": {},
   "source": [
    "Creation\n",
    "Updation\n",
    "Read\n",
    "Deletion"
   ]
  },
  {
   "cell_type": "code",
   "execution_count": null,
   "id": "160df5d0",
   "metadata": {},
   "outputs": [
    {
     "name": "stdout",
     "output_type": "stream",
     "text": [
      "[]\n",
      "<class 'list'>\n",
      "['Apple', 'Banana', 'Guava', 'Pear', 'Strawberry', 'Cherry']\n",
      "0 index is :-  Apple\n",
      "-1 index is :-  Cherry\n",
      "['Apple', 'Banana', 'Guava']\n",
      "[]\n",
      "['Apple', 'Banana', 'Guava', 'Watermelon', 'Strawberry', 'Cherry']\n"
     ]
    }
   ],
   "source": [
    "empty = []\n",
    "print(empty)\n",
    "print(type(empty))\n",
    "\n",
    "fruits = [\"Apple\", \"Banana\", \"Guava\", \"Pear\", \"Strawberry\", \"Cherry\"]\n",
    "print(fruits)\n",
    "\n",
    "print(\"0 index is :- \", fruits[0])\n",
    "print(\"-1 index is :- \", fruits[-1])\n",
    "print(fruits[:3]) #Slicing\n",
    "\n",
    "print(fruits[0:0:])\n",
    "\n",
    "\n"
   ]
  },
  {
   "cell_type": "markdown",
   "id": "4629f6e4",
   "metadata": {},
   "source": [
    "Updation:"
   ]
  },
  {
   "cell_type": "code",
   "execution_count": 25,
   "id": "dd47893d",
   "metadata": {},
   "outputs": [
    {
     "name": "stdout",
     "output_type": "stream",
     "text": [
      "['Apple', 'Banana', 'Guava', 'Watermelon', 'Strawberry', 'Cherry']\n",
      "['Apple', 'Banana', 'Guava', 'Watermelon', 'Strawberry', 'Cherry', 'Orange']\n",
      "['Apple', 'Banana', 'Guava', 'Pear', 'Watermelon', 'Strawberry', 'Cherry', 'Orange']\n",
      "['Apple', 'Banana', 'Guava', 'Pear', 'Watermelon', 'Mango', 'Strawberry', 'Cherry', 'Orange']\n",
      "['Apple', 'Banana', 'Guava', 'Pear', 'Watermelon', 'Mango', 'Strawberry', 'Cherry', 'Orange', 'Kiwi']\n",
      "['Pomegrenate', 'Apple', 'Banana', 'Guava', 'Pear', 'Watermelon', 'Mango', 'Strawberry', 'Cherry', 'Orange', 'Kiwi']\n"
     ]
    }
   ],
   "source": [
    "fruits = [\"Apple\", \"Banana\", \"Guava\", \"Pear\", \"Strawberry\", \"Cherry\"]\n",
    "fruits[3]=\"Watermelon\"\n",
    "print(fruits)\n",
    "\n",
    "fruits.append(\"Orange\")\n",
    "print(fruits)\n",
    "fruits.insert(3,\"Pear\")\n",
    "print(fruits)\n",
    "\n",
    "fruits.insert(-3, \"Mango\")\n",
    "print(fruits)\n",
    "\n",
    "fruits.insert(13,\"Kiwi\")\n",
    "print(fruits)\n",
    "\n",
    "fruits.insert(-13,\"Pomegrenate\")\n",
    "print(fruits)"
   ]
  },
  {
   "cell_type": "code",
   "execution_count": 26,
   "id": "23c7650e",
   "metadata": {},
   "outputs": [
    {
     "name": "stdout",
     "output_type": "stream",
     "text": [
      "[1, 2, 3, 4, 5, 6]\n",
      "[7, 8, 9, 10, 1, 2, 3, 4, 5, 6]\n"
     ]
    }
   ],
   "source": [
    "list1 = [1,2,3,4,5,6]\n",
    "list2 = [7,8,9,10]\n",
    "list2.extend(list1)\n",
    "print(list1)\n",
    "print(list2)"
   ]
  },
  {
   "cell_type": "code",
   "execution_count": 28,
   "id": "6920c06f",
   "metadata": {},
   "outputs": [
    {
     "name": "stdout",
     "output_type": "stream",
     "text": [
      "[1, [2, 3, 4], 5, 6]\n",
      "[7, 8, 9, 10, 1, [2, 3, 4], 5, 6]\n",
      "[7, 8, 9, 10, 1, [2, 3, 4], 5, 6, [1, [2, 3, 4], 5, 6]]\n"
     ]
    }
   ],
   "source": [
    "list1 = [1,[2,3,4],5,6]\n",
    "list2 = [7,8,9,10]\n",
    "list2.extend(list1)\n",
    "print(list1)\n",
    "print(list2)\n",
    "list2.append(list1)\n",
    "print(list2)"
   ]
  },
  {
   "cell_type": "code",
   "execution_count": 29,
   "id": "f62303ef",
   "metadata": {},
   "outputs": [
    {
     "name": "stdout",
     "output_type": "stream",
     "text": [
      "2\n",
      "3\n",
      "4\n",
      "5\n",
      "6\n",
      "7\n",
      "8\n",
      "9\n"
     ]
    }
   ],
   "source": [
    "ls = [2,3,4,5,6,7,8,9]\n",
    "\n",
    "for i in range(len(ls)):\n",
    "  print(ls[i])"
   ]
  },
  {
   "cell_type": "markdown",
   "id": "970d6b9e",
   "metadata": {},
   "source": [
    "Q1. WAP which will print count of all the even and odd no.s in a list"
   ]
  },
  {
   "cell_type": "code",
   "execution_count": 33,
   "id": "937a2099",
   "metadata": {},
   "outputs": [
    {
     "name": "stdout",
     "output_type": "stream",
     "text": [
      "Even no.s:-  4\n",
      "Odd no.s:-  5\n"
     ]
    }
   ],
   "source": [
    "ls = [1,2,3,4,5,6,7,8,9]\n",
    "even=0\n",
    "odd = 0\n",
    "for i in range(len(ls)):\n",
    "  if ls[i]%2==0:\n",
    "    even+=1\n",
    "  else:\n",
    "    odd+=1\n",
    "\n",
    "print(\"Even no.s:- \", even)\n",
    "print(\"Odd no.s:- \", odd)"
   ]
  },
  {
   "cell_type": "markdown",
   "id": "3161c3ed",
   "metadata": {},
   "source": [
    "WAP in which update the list and write even for even no.s and no+5 for odd no.s"
   ]
  },
  {
   "cell_type": "code",
   "execution_count": null,
   "id": "0e123b41",
   "metadata": {},
   "outputs": [
    {
     "name": "stdout",
     "output_type": "stream",
     "text": [
      "[6, 'even', 8, 'even', 10, 'even', 12, 'even', 14]\n"
     ]
    }
   ],
   "source": [
    "ls = [1,2,3,4,5,6,7,8,9]\n",
    "for i in range(len(ls)):\n",
    "  if ls[i]%2==0:\n",
    "    ls[i]=\"even\"\n",
    "  else:\n",
    "    ls[i]+=5\n",
    "\n",
    "print(ls)"
   ]
  }
 ],
 "metadata": {
  "kernelspec": {
   "display_name": "Python 3",
   "language": "python",
   "name": "python3"
  },
  "language_info": {
   "codemirror_mode": {
    "name": "ipython",
    "version": 3
   },
   "file_extension": ".py",
   "mimetype": "text/x-python",
   "name": "python",
   "nbconvert_exporter": "python",
   "pygments_lexer": "ipython3",
   "version": "3.10.0"
  }
 },
 "nbformat": 4,
 "nbformat_minor": 5
}
