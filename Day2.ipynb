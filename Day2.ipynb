{
 "cells": [
  {
   "cell_type": "markdown",
   "id": "03a3ea13",
   "metadata": {},
   "source": [
    "WAP which will take length of the three sides of a triangle from an user and check whether if the triangle is Equilateral, isosceles or Scalene Triangle"
   ]
  },
  {
   "cell_type": "code",
   "execution_count": null,
   "id": "e4fc0937",
   "metadata": {},
   "outputs": [],
   "source": [
    "side1=int(input(\"Enter the first side:- \"))\n",
    "side2=int(input(\"Enter the second side:- \"))\n",
    "side3=int(input(\"Enter the third side:- \"))\n",
    "\n",
    "if(side1==side2 and side2==side3):\n",
    "  print(\"Equilateral Triangle\")\n",
    "elif(side1==side2 or side2==side3 or side3==side1):\n",
    "  print(\"Isosceles Triangle\")\n",
    "else:\n",
    "  print(\"Scalene Triangle\")"
   ]
  },
  {
   "cell_type": "markdown",
   "id": "f870cfe8",
   "metadata": {},
   "source": [
    "Valid Triangle"
   ]
  },
  {
   "cell_type": "code",
   "execution_count": null,
   "id": "73dc7e4f",
   "metadata": {},
   "outputs": [],
   "source": [
    "side1=int(input(\"Enter the first side:- \"))\n",
    "side2=int(input(\"Enter the second side:- \"))\n",
    "side3=int(input(\"Enter the third side:- \"))\n",
    "\n",
    "if((side1+side2)>side3 and (side2+side3)>side1 and (side3+side1)>side2):\n",
    "  print(\"Valid\")\n",
    "else:\n",
    "  print(\"Invalid\")"
   ]
  },
  {
   "cell_type": "markdown",
   "id": "ad791b37",
   "metadata": {},
   "source": [
    "WAP to input electricity unit charges and calculate total bill:\n",
    "-according to the give condition:-\n",
    "\n",
    "1.> For first 50 units Rs. 0.5/unit\n",
    "2.> For next 150 nits Rs. 0.75/unit\n",
    "3.> For next 250 units Rs. 1.20/unit\n",
    "4.> For unit above 459 Rs. 1.50/unit\n",
    "5.> An additional surcharge of 20% is added to the bill"
   ]
  },
  {
   "cell_type": "code",
   "execution_count": null,
   "id": "a8699046",
   "metadata": {},
   "outputs": [],
   "source": [
    "unit = int(input(\"Enter the Unit:- \"))\n",
    "price = 0\n",
    "if unit<=50:\n",
    "  price = 50*0.5\n",
    "elif unit<=200:\n",
    "  price = 50*0.5+(unit-50)*0.75\n",
    "elif unit<=450:\n",
    "  price = 50*0.5+150*0.75+(unit-200)*1.20\n",
    "else:\n",
    "  price = 50*0.5+150*0.75+250*1.20+(unit-450)*1.50\n",
    "\n",
    "finalPrice = price+(price*0.2)\n",
    "\n",
    "print(finalPrice)"
   ]
  },
  {
   "cell_type": "markdown",
   "id": "d82966ae",
   "metadata": {},
   "source": [
    "WAP which accept the kilometers covered and calculate the bill according to the following criteria:-\n",
    "\n",
    "First: 10Km-> Rs.11/Km\n",
    "Next: 90Km-> Rs.10/Km\n",
    "After that -> Rs.9/Km"
   ]
  },
  {
   "cell_type": "code",
   "execution_count": null,
   "id": "56cd25d2",
   "metadata": {},
   "outputs": [],
   "source": [
    "distance = int(input(\"Enter the distance:- \"))\n",
    "bill = 0\n",
    "\n",
    "if distance<=10:\n",
    "  bill=distance*11\n",
    "elif distance<=100:\n",
    "  bill=10*11+(distance-10)*10\n",
    "else:\n",
    "  bill=10*11+90*10+(distance-100)*9\n",
    "\n",
    "print(bill)\n"
   ]
  },
  {
   "cell_type": "markdown",
   "id": "99017a04",
   "metadata": {},
   "source": [
    "While Loop"
   ]
  },
  {
   "cell_type": "code",
   "execution_count": null,
   "id": "2a2a9659",
   "metadata": {},
   "outputs": [],
   "source": [
    "i=1\n",
    "while i<=19:\n",
    "  print(i)\n",
    "  i+=2\n"
   ]
  },
  {
   "cell_type": "markdown",
   "id": "e131805b",
   "metadata": {},
   "source": [
    "WAP which will print sum of all the odd no.s between 25 to 70"
   ]
  },
  {
   "cell_type": "code",
   "execution_count": null,
   "id": "1fd1d3fc",
   "metadata": {},
   "outputs": [],
   "source": [
    "i=25\n",
    "sum=0\n",
    "while i<=70:\n",
    "  sum+=i\n",
    "  i+=2\n",
    "\n",
    "print(sum)"
   ]
  },
  {
   "cell_type": "code",
   "execution_count": null,
   "id": "772b7d35",
   "metadata": {},
   "outputs": [],
   "source": [
    "i=25\n",
    "sum=0\n",
    "while i<=70:\n",
    "  if i%2!=0:\n",
    "    sum+=1\n",
    "  i+=1\n",
    "print(sum)"
   ]
  },
  {
   "cell_type": "markdown",
   "id": "73b17860",
   "metadata": {},
   "source": [
    "WAP which will take a no as an input from an user and print factors of that no."
   ]
  },
  {
   "cell_type": "code",
   "execution_count": null,
   "id": "be68be4f",
   "metadata": {},
   "outputs": [],
   "source": [
    "no = int(input())\n",
    "i=1\n",
    "while i<=no:\n",
    "  if no%i==0:\n",
    "    print(i)\n",
    "  i+=1"
   ]
  },
  {
   "cell_type": "markdown",
   "id": "db1152a9",
   "metadata": {},
   "source": [
    "Factorial:"
   ]
  },
  {
   "cell_type": "code",
   "execution_count": null,
   "id": "de0421dc",
   "metadata": {},
   "outputs": [],
   "source": [
    "no = int(input())\n",
    "i=1\n",
    "fact=1\n",
    "while i<=no:\n",
    "  fact*=i\n",
    "  i+=1\n",
    "print(fact)"
   ]
  },
  {
   "cell_type": "code",
   "execution_count": 39,
   "id": "88156bec",
   "metadata": {},
   "outputs": [
    {
     "name": "stdout",
     "output_type": "stream",
     "text": [
      "3\n"
     ]
    }
   ],
   "source": [
    "no = int(input())\n",
    "count=0\n",
    "\n",
    "while no!=0:\n",
    "  no=no//10\n",
    "  count+=1\n",
    "\n",
    "print(count)\n"
   ]
  },
  {
   "cell_type": "code",
   "execution_count": 1,
   "id": "65c03620",
   "metadata": {},
   "outputs": [
    {
     "name": "stdout",
     "output_type": "stream",
     "text": [
      "15\n"
     ]
    }
   ],
   "source": [
    "no = int(input())\n",
    "sum=0\n",
    "while no!=0:\n",
    "  r=no%10\n",
    "  no=no//10\n",
    "  sum+=r\n",
    "\n",
    "print(sum)"
   ]
  },
  {
   "cell_type": "markdown",
   "id": "1ecdf662",
   "metadata": {},
   "source": [
    "Q1. Reverse a no."
   ]
  },
  {
   "cell_type": "code",
   "execution_count": null,
   "id": "02f646ff",
   "metadata": {},
   "outputs": [
    {
     "name": "stdout",
     "output_type": "stream",
     "text": [
      "321\n"
     ]
    }
   ],
   "source": [
    "no = int(input(\"Enter the number:- \"))\n",
    "rno = 0\n",
    "while no!=0:\n",
    "  r=no%10\n",
    "  rno=rno*10+r\n",
    "  no=no//10\n",
    "print(rno)\n",
    "\n"
   ]
  },
  {
   "cell_type": "markdown",
   "id": "8b3e2ec3",
   "metadata": {},
   "source": [
    "Q2. Check if a no. is a Palindrome no."
   ]
  },
  {
   "cell_type": "code",
   "execution_count": null,
   "id": "a1c02145",
   "metadata": {},
   "outputs": [
    {
     "name": "stdout",
     "output_type": "stream",
     "text": [
      "No. is a Palindrome no.\n"
     ]
    }
   ],
   "source": [
    "no = int(input(\"Enter the number:- \"))\n",
    "temp = no\n",
    "rno = 0\n",
    "while temp!=0:\n",
    "  r=temp%10\n",
    "  rno=rno*10+r\n",
    "  temp=temp//10\n",
    "\n",
    "if rno == no:\n",
    "  print(\"No. is a Palindrome no.\")\n",
    "else:\n",
    "  print(\"No. is not a Palindrome no.\")"
   ]
  },
  {
   "cell_type": "markdown",
   "id": "59ad2b8e",
   "metadata": {},
   "source": [
    "Q3. Check if a no. is a Narcissistic no. or an Armstrong no."
   ]
  },
  {
   "cell_type": "code",
   "execution_count": null,
   "id": "eb7ec639",
   "metadata": {},
   "outputs": [],
   "source": [
    "no = int(input(\"Enter the Number:- \"))\n"
   ]
  }
 ],
 "metadata": {
  "kernelspec": {
   "display_name": "Python 3",
   "language": "python",
   "name": "python3"
  },
  "language_info": {
   "codemirror_mode": {
    "name": "ipython",
    "version": 3
   },
   "file_extension": ".py",
   "mimetype": "text/x-python",
   "name": "python",
   "nbconvert_exporter": "python",
   "pygments_lexer": "ipython3",
   "version": "3.10.0"
  }
 },
 "nbformat": 4,
 "nbformat_minor": 5
}
