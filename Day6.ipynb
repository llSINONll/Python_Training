{
 "cells": [
  {
   "cell_type": "markdown",
   "id": "258e8947",
   "metadata": {},
   "source": [
    "Tuple:- (it is immutable)"
   ]
  },
  {
   "cell_type": "code",
   "execution_count": 3,
   "id": "06806571",
   "metadata": {},
   "outputs": [
    {
     "name": "stdout",
     "output_type": "stream",
     "text": [
      "<class 'tuple'>\n",
      "() () (1, 2, 3, 4, 5, 'hello')\n"
     ]
    }
   ],
   "source": [
    "tp = ()\n",
    "tp1 = tuple()\n",
    "tp2 = (1,2,3,4,5,\"hello\")\n",
    "\n",
    "print(type(tp))\n",
    "print(tp,tp1,tp2)"
   ]
  },
  {
   "cell_type": "code",
   "execution_count": 5,
   "id": "13020cde",
   "metadata": {},
   "outputs": [
    {
     "name": "stdout",
     "output_type": "stream",
     "text": [
      "<class 'tuple'>\n",
      "<class 'tuple'>\n"
     ]
    }
   ],
   "source": [
    "tpl = (1,)\n",
    "tpl1 = 1,\n",
    "print(type(tpl))\n",
    "print(type(tpl1))"
   ]
  },
  {
   "cell_type": "code",
   "execution_count": 7,
   "id": "3e1785fa",
   "metadata": {},
   "outputs": [
    {
     "name": "stdout",
     "output_type": "stream",
     "text": [
      "4\n",
      "3\n"
     ]
    }
   ],
   "source": [
    "tpl2 = (1,2,3,4,5,5,5)\n",
    "print(tpl2.index(5))\n",
    "print(tpl2.count(5))"
   ]
  },
  {
   "cell_type": "code",
   "execution_count": 9,
   "id": "1cf21bc7",
   "metadata": {},
   "outputs": [
    {
     "name": "stdout",
     "output_type": "stream",
     "text": [
      "2616352048608\n",
      "(1, 2, 3, 4, 5, 6, 7, 8)\n",
      "2616350830016\n"
     ]
    }
   ],
   "source": [
    "tupl = (1,2,3,4,5)\n",
    "print(id(tupl))\n",
    "tupl += (6,7,8)\n",
    "print(tupl)\n",
    "print(id(tupl))"
   ]
  },
  {
   "cell_type": "code",
   "execution_count": 13,
   "id": "88d12d58",
   "metadata": {},
   "outputs": [
    {
     "name": "stdout",
     "output_type": "stream",
     "text": [
      "(2, 4, 6, 8)\n",
      "<class 'tuple'>\n"
     ]
    }
   ],
   "source": [
    "x = (2,3,4,5,6,7,8,9)\n",
    "lst = [i for i in x if i%2==0]\n",
    "x = tuple(lst)\n",
    "print(x)\n",
    "print(type(x))"
   ]
  },
  {
   "cell_type": "markdown",
   "id": "ed1b1ef6",
   "metadata": {},
   "source": [
    "String:- "
   ]
  },
  {
   "cell_type": "code",
   "execution_count": null,
   "id": "1138f85b",
   "metadata": {},
   "outputs": [
    {
     "data": {
      "text/plain": [
       "'l'"
      ]
     },
     "execution_count": 14,
     "metadata": {},
     "output_type": "execute_result"
    }
   ],
   "source": [
    "s = \"hello\"\n",
    "print(s[3])"
   ]
  },
  {
   "cell_type": "code",
   "execution_count": 16,
   "id": "f4a3b7ca",
   "metadata": {},
   "outputs": [
    {
     "name": "stdout",
     "output_type": "stream",
     "text": [
      "nt a t\n",
      "e h\n",
      "n Python\n",
      "L'LrPh\n",
      "hn\n",
      "on\n"
     ]
    }
   ],
   "source": [
    "x = \"Let's Learn Python\"\n",
    "print(x[::-3])\n",
    "print(x[7::4])\n",
    "print(x[10:])\n",
    "print(x[::3])\n",
    "print(x[-3:-10:-5])\n",
    "print(x[-2:])"
   ]
  },
  {
   "cell_type": "code",
   "execution_count": 18,
   "id": "efead166",
   "metadata": {},
   "outputs": [
    {
     "name": "stdout",
     "output_type": "stream",
     "text": [
      "hello\n",
      "HELLO\n",
      "Hello\n"
     ]
    }
   ],
   "source": [
    "x = \"heLLo\"\n",
    "print(x.lower())\n",
    "print(x.upper())\n",
    "print(x.capitalize())"
   ]
  },
  {
   "cell_type": "code",
   "execution_count": 19,
   "id": "a50526f9",
   "metadata": {},
   "outputs": [
    {
     "name": "stdout",
     "output_type": "stream",
     "text": [
      "['H', 'e', 'l', 'l', 'o']\n"
     ]
    }
   ],
   "source": [
    "x=\"Hello\"\n",
    "y = list(x)\n",
    "print(y)"
   ]
  },
  {
   "cell_type": "code",
   "execution_count": 20,
   "id": "378f502e",
   "metadata": {},
   "outputs": [
    {
     "name": "stdout",
     "output_type": "stream",
     "text": [
      "['Hello', 'World']\n"
     ]
    }
   ],
   "source": [
    "x = \"Hello World\"\n",
    "y = x.split()\n",
    "print(y)"
   ]
  },
  {
   "cell_type": "markdown",
   "id": "3c14663f",
   "metadata": {},
   "source": [
    "WAP which will take a string as an input from the user and print longest word and their length"
   ]
  },
  {
   "cell_type": "code",
   "execution_count": 25,
   "id": "281f972e",
   "metadata": {},
   "outputs": [
    {
     "name": "stdout",
     "output_type": "stream",
     "text": [
      "Largest word in the string is:- hello and it's length is:- 5 \n",
      "[\"i'm\", 'hello']\n"
     ]
    }
   ],
   "source": [
    "x = input(\"Enter your string:- \")\n",
    "y = x.split()\n",
    "max = y[0]\n",
    "for i in y:\n",
    "  if len(max)<len(i):\n",
    "    max = i\n",
    "print(f\"Largest word in the string is:- {max} and it's length is:- {len(max)} \")\n",
    "print(y)"
   ]
  },
  {
   "cell_type": "code",
   "execution_count": 26,
   "id": "d0494aa4",
   "metadata": {},
   "outputs": [
    {
     "name": "stdout",
     "output_type": "stream",
     "text": [
      "apple banana orange apple apple grapes\n",
      "kiwi banana orange kiwi kiwi grapes\n"
     ]
    }
   ],
   "source": [
    "fruits =\"apple banana orange apple apple grapes\"\n",
    "fruits_replace = fruits.replace(\"apple\",\"kiwi\")\n",
    "print(fruits)\n",
    "print(fruits_replace)"
   ]
  },
  {
   "cell_type": "code",
   "execution_count": null,
   "id": "8f3e384d",
   "metadata": {},
   "outputs": [
    {
     "name": "stdout",
     "output_type": "stream",
     "text": [
      "Hello, my name is sahil.\n",
      "Hello. my name is sahil,\n"
     ]
    }
   ],
   "source": [
    "str1 = \"Hello, my name is sahil.\" #replace . by , and , by .\n",
    "str1 = str1.replace(\",\",\"/\")\n",
    "str1 = str1.replace(\".\",\",\")\n",
    "str1 = str1.replace(\"/\",\".\")\n",
    "print(str1)\n",
    "\n"
   ]
  },
  {
   "cell_type": "markdown",
   "id": "3a048b53",
   "metadata": {},
   "source": [
    "Check is a string is palindrome or not"
   ]
  },
  {
   "cell_type": "code",
   "execution_count": null,
   "id": "c9e918cc",
   "metadata": {},
   "outputs": [
    {
     "name": "stdout",
     "output_type": "stream",
     "text": [
      "Palindrome\n"
     ]
    }
   ],
   "source": [
    "str1 = input(\"Enter the string:- \")\n",
    "if str1 == str1[::-1]:\n",
    "  print(\"A Palindrome\")\n",
    "else:\n",
    "  print(\"Not a Palindrome\")"
   ]
  },
  {
   "cell_type": "markdown",
   "id": "25792519",
   "metadata": {},
   "source": [
    "Sets:- "
   ]
  },
  {
   "cell_type": "code",
   "execution_count": null,
   "id": "5b975476",
   "metadata": {},
   "outputs": [
    {
     "name": "stdout",
     "output_type": "stream",
     "text": [
      "set()\n",
      "{1, 2, 3, 4, 5, 6, 8}\n"
     ]
    }
   ],
   "source": [
    "s = set()\n",
    "print(s)\n",
    "st = {1,2,3,4}\n",
    "st.add(8) #can give only single value\n",
    "st.update([1,2,3,4,5,6,6]) #can give multiple values\n",
    "print(st)"
   ]
  },
  {
   "cell_type": "code",
   "execution_count": 38,
   "id": "882cbef4",
   "metadata": {},
   "outputs": [
    {
     "name": "stdout",
     "output_type": "stream",
     "text": [
      "{1, 2, 4, 5}\n",
      "{1, 2, 4}\n"
     ]
    },
    {
     "ename": "KeyError",
     "evalue": "3",
     "output_type": "error",
     "traceback": [
      "\u001b[1;31m---------------------------------------------------------------------------\u001b[0m",
      "\u001b[1;31mKeyError\u001b[0m                                  Traceback (most recent call last)",
      "Cell \u001b[1;32mIn[38], line 6\u001b[0m\n\u001b[0;32m      4\u001b[0m st\u001b[38;5;241m.\u001b[39mdiscard(\u001b[38;5;241m5\u001b[39m)\n\u001b[0;32m      5\u001b[0m \u001b[38;5;28mprint\u001b[39m(st)\n\u001b[1;32m----> 6\u001b[0m \u001b[43mst\u001b[49m\u001b[38;5;241;43m.\u001b[39;49m\u001b[43mremove\u001b[49m\u001b[43m(\u001b[49m\u001b[38;5;241;43m3\u001b[39;49m\u001b[43m)\u001b[49m\n\u001b[0;32m      7\u001b[0m \u001b[38;5;28mprint\u001b[39m(st)\n",
      "\u001b[1;31mKeyError\u001b[0m: 3"
     ]
    }
   ],
   "source": [
    "st = {1,2,3,4,5}\n",
    "st.remove(3)\n",
    "print(st)\n",
    "st.discard(5)\n",
    "print(st)\n",
    "st.remove(3)\n",
    "print(st)"
   ]
  },
  {
   "cell_type": "code",
   "execution_count": null,
   "id": "0a21eabe",
   "metadata": {},
   "outputs": [
    {
     "name": "stdout",
     "output_type": "stream",
     "text": [
      "set()\n"
     ]
    },
    {
     "ename": "NameError",
     "evalue": "name 'st' is not defined",
     "output_type": "error",
     "traceback": [
      "\u001b[1;31m---------------------------------------------------------------------------\u001b[0m",
      "\u001b[1;31mNameError\u001b[0m                                 Traceback (most recent call last)",
      "Cell \u001b[1;32mIn[40], line 5\u001b[0m\n\u001b[0;32m      3\u001b[0m \u001b[38;5;28mprint\u001b[39m(st)\n\u001b[0;32m      4\u001b[0m \u001b[38;5;28;01mdel\u001b[39;00m st \n\u001b[1;32m----> 5\u001b[0m \u001b[38;5;28mprint\u001b[39m(\u001b[43mst\u001b[49m)\n",
      "\u001b[1;31mNameError\u001b[0m: name 'st' is not defined"
     ]
    }
   ],
   "source": [
    "st = {1,2,3}\n",
    "st.clear()\n",
    "print(st)\n",
    "del st\n",
    "print(st)"
   ]
  },
  {
   "cell_type": "markdown",
   "id": "785e3e52",
   "metadata": {},
   "source": [
    "WAP in which take a string as an input and count the unique words in that string"
   ]
  },
  {
   "cell_type": "code",
   "execution_count": 47,
   "id": "66f9fc95",
   "metadata": {},
   "outputs": [
    {
     "name": "stdout",
     "output_type": "stream",
     "text": [
      "2\n"
     ]
    }
   ],
   "source": [
    "s = input(\"Enter the String:- \")\n",
    "print(len(set(s.split())))"
   ]
  },
  {
   "cell_type": "code",
   "execution_count": null,
   "id": "1d3999a1",
   "metadata": {},
   "outputs": [],
   "source": [
    "s = input(\"Enter the String:- \")\n",
    "lst = s.split()\n",
    "lst1 = []\n",
    "for i in lst:\n",
    "  if i not in lst1:\n",
    "    lst1.append(i)\n",
    "\n",
    "x = \"\".join(lst1)\n",
    "print(x)"
   ]
  }
 ],
 "metadata": {
  "kernelspec": {
   "display_name": "Python 3",
   "language": "python",
   "name": "python3"
  },
  "language_info": {
   "codemirror_mode": {
    "name": "ipython",
    "version": 3
   },
   "file_extension": ".py",
   "mimetype": "text/x-python",
   "name": "python",
   "nbconvert_exporter": "python",
   "pygments_lexer": "ipython3",
   "version": "3.10.0"
  }
 },
 "nbformat": 4,
 "nbformat_minor": 5
}
