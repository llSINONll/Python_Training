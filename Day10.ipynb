{
 "cells": [
  {
   "cell_type": "code",
   "execution_count": 1,
   "id": "e1bf94f4",
   "metadata": {},
   "outputs": [
    {
     "name": "stdout",
     "output_type": "stream",
     "text": [
      "1.26.0\n"
     ]
    }
   ],
   "source": [
    "import numpy\n",
    "print(numpy.__version__)"
   ]
  },
  {
   "cell_type": "code",
   "execution_count": 4,
   "id": "bd0c22bb",
   "metadata": {},
   "outputs": [
    {
     "name": "stdout",
     "output_type": "stream",
     "text": [
      "[0 1 2 3 4 5 6 7 8 9]\n",
      "[[ 0  1  2  3]\n",
      " [ 4  5  6  7]\n",
      " [ 8  9 10 11]]\n",
      "[[[ 0  1  2]\n",
      "  [ 3  4  5]\n",
      "  [ 6  7  8]\n",
      "  [ 9 10 11]]\n",
      "\n",
      " [[12 13 14]\n",
      "  [15 16 17]\n",
      "  [18 19 20]\n",
      "  [21 22 23]]]\n"
     ]
    }
   ],
   "source": [
    "import numpy as np\n",
    "arr1 = np.arange(10)\n",
    "arr2 = np.arange(12).reshape(3,4)\n",
    "arr3 = np.arange(24).reshape(2,4,3)\n",
    "\n",
    "print(arr1)\n",
    "print(arr2)\n",
    "print(arr3)"
   ]
  },
  {
   "cell_type": "code",
   "execution_count": 5,
   "id": "b6d15ea1",
   "metadata": {},
   "outputs": [
    {
     "name": "stdout",
     "output_type": "stream",
     "text": [
      "[0 1 2 3 4 5 6 7 8 9]\n",
      "[9 8 7 6 5 4 3 2 1 0]\n",
      "[2 4 6 8]\n"
     ]
    }
   ],
   "source": [
    "print(arr1[::])\n",
    "print(arr1[::-1])\n",
    "print(arr1[2::2])"
   ]
  },
  {
   "cell_type": "markdown",
   "id": "00485248",
   "metadata": {},
   "source": [
    "2D array slicing:- "
   ]
  },
  {
   "cell_type": "code",
   "execution_count": 7,
   "id": "77c72d13",
   "metadata": {},
   "outputs": [
    {
     "name": "stdout",
     "output_type": "stream",
     "text": [
      "[[ 0  1  2  3]\n",
      " [ 4  5  6  7]\n",
      " [ 8  9 10 11]]\n"
     ]
    }
   ],
   "source": [
    "print(arr2)"
   ]
  },
  {
   "cell_type": "code",
   "execution_count": 6,
   "id": "0f6121bd",
   "metadata": {},
   "outputs": [
    {
     "name": "stdout",
     "output_type": "stream",
     "text": [
      "[[11  8]\n",
      " [ 3  0]]\n"
     ]
    }
   ],
   "source": [
    "print(arr2[-1::-2,-1::-3])"
   ]
  },
  {
   "cell_type": "code",
   "execution_count": 8,
   "id": "cfb07ecc",
   "metadata": {},
   "outputs": [
    {
     "name": "stdout",
     "output_type": "stream",
     "text": [
      "[[ 4  6]\n",
      " [ 8 10]]\n"
     ]
    }
   ],
   "source": [
    "print(arr2[1::1,0::2])"
   ]
  },
  {
   "cell_type": "code",
   "execution_count": 9,
   "id": "9ae30305",
   "metadata": {},
   "outputs": [
    {
     "name": "stdout",
     "output_type": "stream",
     "text": [
      "[0 1 2 3]\n",
      "[0 4 8]\n",
      "[[ 5  6  7]\n",
      " [ 9 10 11]]\n",
      "[[0 1]\n",
      " [8 9]]\n"
     ]
    }
   ],
   "source": [
    "print(arr2[0,:])\n",
    "print(arr2[:,0])\n",
    "print(arr2[1:,1:])\n",
    "print(arr2[::2,:2:])"
   ]
  },
  {
   "cell_type": "markdown",
   "id": "bcf407e8",
   "metadata": {},
   "source": [
    "3D array Slicing"
   ]
  },
  {
   "cell_type": "code",
   "execution_count": 14,
   "id": "ff7d9e9a",
   "metadata": {},
   "outputs": [
    {
     "name": "stdout",
     "output_type": "stream",
     "text": [
      "[[[ 0  1  2]\n",
      "  [ 3  4  5]\n",
      "  [ 6  7  8]\n",
      "  [ 9 10 11]]\n",
      "\n",
      " [[12 13 14]\n",
      "  [15 16 17]\n",
      "  [18 19 20]\n",
      "  [21 22 23]]]\n"
     ]
    }
   ],
   "source": [
    "print(arr3)"
   ]
  },
  {
   "cell_type": "code",
   "execution_count": 15,
   "id": "bb124e1f",
   "metadata": {},
   "outputs": [
    {
     "data": {
      "text/plain": [
       "array([[15, 17],\n",
       "       [21, 23]])"
      ]
     },
     "execution_count": 15,
     "metadata": {},
     "output_type": "execute_result"
    }
   ],
   "source": [
    "arr3[1,1::2,::2]"
   ]
  },
  {
   "cell_type": "code",
   "execution_count": 16,
   "id": "f0c43ffa",
   "metadata": {},
   "outputs": [
    {
     "name": "stdout",
     "output_type": "stream",
     "text": [
      "[[ 0  1  2]\n",
      " [ 3  4  5]\n",
      " [ 6  7  8]\n",
      " [ 9 10 11]]\n",
      "[0 1 2]\n",
      "[[12 13 14]\n",
      " [15 16 17]\n",
      " [18 19 20]]\n",
      "[[0 2]\n",
      " [3 5]]\n"
     ]
    }
   ],
   "source": [
    "print(arr3[0])\n",
    "print(arr3[0,0])\n",
    "print(arr3[1,:3])\n",
    "print(arr3[0,:2,::2])"
   ]
  },
  {
   "cell_type": "code",
   "execution_count": 17,
   "id": "92bd9cee",
   "metadata": {},
   "outputs": [
    {
     "name": "stdout",
     "output_type": "stream",
     "text": [
      "[[[ 0  2]\n",
      "  [ 9 11]]\n",
      "\n",
      " [[12 14]\n",
      "  [21 23]]]\n",
      "[[[20 18]\n",
      "  [14 12]]\n",
      "\n",
      " [[ 8  6]\n",
      "  [ 2  0]]]\n"
     ]
    }
   ],
   "source": [
    "print(arr3[::,::3,::2])\n",
    "print(arr3[::-1,-2::-2,-1::-2])"
   ]
  },
  {
   "cell_type": "code",
   "execution_count": 19,
   "id": "8c17902f",
   "metadata": {},
   "outputs": [
    {
     "name": "stdout",
     "output_type": "stream",
     "text": [
      "[[[19 18]\n",
      "  [16 15]\n",
      "  [13 12]]\n",
      "\n",
      " [[ 7  6]\n",
      "  [ 4  3]\n",
      "  [ 1  0]]]\n"
     ]
    }
   ],
   "source": [
    "print(arr3[::-1,-2::-1,-2::-1])"
   ]
  },
  {
   "cell_type": "code",
   "execution_count": 20,
   "id": "61a87836",
   "metadata": {},
   "outputs": [
    {
     "name": "stdout",
     "output_type": "stream",
     "text": [
      "int32\n",
      "float64\n",
      "4\n",
      "8\n",
      "12\n",
      "32\n"
     ]
    }
   ],
   "source": [
    "a1 = np.array([1,2,3])\n",
    "a2 = np.array([1.1,2.2,3.3,4.4])\n",
    "\n",
    "print(a1.dtype)\n",
    "print(a2.dtype)\n",
    "\n",
    "print(a1.itemsize)\n",
    "print(a2.itemsize)\n",
    "\n",
    "print(a1.nbytes)\n",
    "print(a2.nbytes)"
   ]
  },
  {
   "cell_type": "code",
   "execution_count": 22,
   "id": "1bb5bac8",
   "metadata": {},
   "outputs": [
    {
     "name": "stdout",
     "output_type": "stream",
     "text": [
      "1\n",
      "2\n",
      "(4,)\n",
      "(2, 5)\n",
      "4\n",
      "10\n"
     ]
    }
   ],
   "source": [
    "a1 = np.array([1,2,3,4])\n",
    "a2 = np.array([[1,2,3,4,5],[6,7,8,9,0]])\n",
    "\n",
    "print(a1.ndim)\n",
    "print(a2.ndim)\n",
    "\n",
    "print(a1.shape)\n",
    "print(a2.shape)\n",
    "\n",
    "print(a1.size)\n",
    "print(a2.size)\n"
   ]
  },
  {
   "cell_type": "markdown",
   "id": "cc4cd8d2",
   "metadata": {},
   "source": [
    "numpy Array functions:-"
   ]
  },
  {
   "cell_type": "code",
   "execution_count": null,
   "id": "3a322b97",
   "metadata": {},
   "outputs": [
    {
     "name": "stdout",
     "output_type": "stream",
     "text": [
      "[0. 0. 0. 0. 0. 0. 0. 0. 0. 0.]\n",
      "[[0 0 0 0 0 0]\n",
      " [0 0 0 0 0 0]\n",
      " [0 0 0 0 0 0]]\n",
      "[[[0. 0.]\n",
      "  [0. 0.]\n",
      "  [0. 0.]]\n",
      "\n",
      " [[0. 0.]\n",
      "  [0. 0.]\n",
      "  [0. 0.]]]\n"
     ]
    }
   ],
   "source": [
    "print(np.zeros(10))\n",
    "\n",
    "print(np.zeros((3,6),dtype='int'))  #by default it takes floating point zeros\n",
    "\n",
    "print(np.zeros((2,3,2)))"
   ]
  },
  {
   "cell_type": "code",
   "execution_count": null,
   "id": "71722639",
   "metadata": {},
   "outputs": [
    {
     "name": "stdout",
     "output_type": "stream",
     "text": [
      "[1. 1. 1. 1. 1. 1. 1. 1. 1. 1.]\n",
      "[[1 1 1 1 1 1]\n",
      " [1 1 1 1 1 1]\n",
      " [1 1 1 1 1 1]]\n",
      "[[[1. 1.]\n",
      "  [1. 1.]\n",
      "  [1. 1.]]\n",
      "\n",
      " [[1. 1.]\n",
      "  [1. 1.]\n",
      "  [1. 1.]]]\n"
     ]
    }
   ],
   "source": [
    "print(np.ones(10))\n",
    "\n",
    "print(np.ones((3,6),dtype='int'))  #by default it takes floating point ones\n",
    "\n",
    "print(np.ones((2,3,2)))"
   ]
  },
  {
   "cell_type": "code",
   "execution_count": 27,
   "id": "b4ed4f36",
   "metadata": {},
   "outputs": [
    {
     "name": "stdout",
     "output_type": "stream",
     "text": [
      "[[1 0 0 0]\n",
      " [0 1 0 0]\n",
      " [0 0 1 0]\n",
      " [0 0 0 1]]\n"
     ]
    }
   ],
   "source": [
    "print(np.identity(4,dtype='int'))"
   ]
  }
 ],
 "metadata": {
  "kernelspec": {
   "display_name": "Python 3",
   "language": "python",
   "name": "python3"
  },
  "language_info": {
   "codemirror_mode": {
    "name": "ipython",
    "version": 3
   },
   "file_extension": ".py",
   "mimetype": "text/x-python",
   "name": "python",
   "nbconvert_exporter": "python",
   "pygments_lexer": "ipython3",
   "version": "3.10.0"
  }
 },
 "nbformat": 4,
 "nbformat_minor": 5
}
