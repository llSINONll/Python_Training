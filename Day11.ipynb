{
 "cells": [
  {
   "cell_type": "code",
   "execution_count": 1,
   "id": "d5d9e7aa",
   "metadata": {},
   "outputs": [
    {
     "name": "stdout",
     "output_type": "stream",
     "text": [
      "1.26.0\n"
     ]
    }
   ],
   "source": [
    "import numpy as np\n",
    "print(np.__version__)"
   ]
  },
  {
   "cell_type": "markdown",
   "id": "e6c4edef",
   "metadata": {},
   "source": [
    "Arithmetic operations with numpy array"
   ]
  },
  {
   "cell_type": "code",
   "execution_count": 2,
   "id": "92468940",
   "metadata": {},
   "outputs": [
    {
     "name": "stdout",
     "output_type": "stream",
     "text": [
      "[1 3 5 7]\n",
      "[2 4 6 8]\n"
     ]
    }
   ],
   "source": [
    "a1 = np.array([1,3,5,7])\n",
    "a2 = np.array([2,4,6,8])\n",
    "print(a1)\n",
    "print(a2)"
   ]
  },
  {
   "cell_type": "markdown",
   "id": "0107a11c",
   "metadata": {},
   "source": [
    "Scalar Operations:- "
   ]
  },
  {
   "cell_type": "code",
   "execution_count": 4,
   "id": "d2a39a79",
   "metadata": {},
   "outputs": [
    {
     "name": "stdout",
     "output_type": "stream",
     "text": [
      "[ 6  8 10 12]\n",
      "[-4 -2  0  2]\n",
      "[ 2  6 10 14]\n",
      "[0.5 1.5 2.5 3.5]\n",
      "[0 1 2 3]\n",
      "[-1 -3 -5 -7]\n",
      "[ 1  9 25 49]\n",
      "[1 1 1 1]\n"
     ]
    }
   ],
   "source": [
    "print(a1+5)\n",
    "print(a1-5)\n",
    "print(a1*2)\n",
    "print(a1/2)\n",
    "print(a1//2)\n",
    "print(-a1)\n",
    "print(a1**2)\n",
    "print(a1%2)"
   ]
  },
  {
   "cell_type": "code",
   "execution_count": 5,
   "id": "8a74f4e4",
   "metadata": {},
   "outputs": [
    {
     "name": "stdout",
     "output_type": "stream",
     "text": [
      "[ 3  7 11 15]\n",
      "[-1 -1 -1 -1]\n",
      "[ 2 12 30 56]\n",
      "[0.5        0.75       0.83333333 0.875     ]\n",
      "[0 0 0 0]\n",
      "[-1 -3 -5 -7]\n",
      "[      1      81   15625 5764801]\n",
      "[1 3 5 7]\n"
     ]
    }
   ],
   "source": [
    "print(a1+a2)\n",
    "print(a1-a2)\n",
    "print(a1*a2)\n",
    "print(a1/a2)\n",
    "print(a1//a2)\n",
    "print(-a1)\n",
    "print(a1**a2)\n",
    "print(a1%a2)"
   ]
  },
  {
   "cell_type": "code",
   "execution_count": 6,
   "id": "a58244e2",
   "metadata": {},
   "outputs": [
    {
     "name": "stdout",
     "output_type": "stream",
     "text": [
      "100\n"
     ]
    }
   ],
   "source": [
    "print(np.dot(a1,a2))"
   ]
  },
  {
   "cell_type": "code",
   "execution_count": 8,
   "id": "62a7296f",
   "metadata": {},
   "outputs": [
    {
     "name": "stdout",
     "output_type": "stream",
     "text": [
      "[[ 0  1  2  3]\n",
      " [ 4  5  6  7]\n",
      " [ 8  9 10 11]]\n",
      "[[ 0  1  2]\n",
      " [ 3  4  5]\n",
      " [ 6  7  8]\n",
      " [ 9 10 11]]\n",
      "[[ 42  48  54]\n",
      " [114 136 158]\n",
      " [186 224 262]]\n"
     ]
    }
   ],
   "source": [
    "arr1 = np.arange(12).reshape(3,4)\n",
    "arr2 = np.arange(12).reshape(4,3)\n",
    "\n",
    "print(arr1)\n",
    "print(arr2)\n",
    "\n",
    "print(np.dot(arr1,arr2))"
   ]
  },
  {
   "cell_type": "code",
   "execution_count": 10,
   "id": "6feb3cd6",
   "metadata": {},
   "outputs": [
    {
     "name": "stdout",
     "output_type": "stream",
     "text": [
      "[[ 0  1  2  3  4]\n",
      " [ 5  6  7  8  9]\n",
      " [10 11 12 13 14]\n",
      " [15 16 17 18 19]]\n"
     ]
    }
   ],
   "source": [
    "x = np.arange(20).reshape(4,5)\n",
    "print(x)"
   ]
  },
  {
   "cell_type": "code",
   "execution_count": 11,
   "id": "8fe44d61",
   "metadata": {},
   "outputs": [
    {
     "data": {
      "text/plain": [
       "array([ 7.5,  8.5,  9.5, 10.5, 11.5])"
      ]
     },
     "execution_count": 11,
     "metadata": {},
     "output_type": "execute_result"
    }
   ],
   "source": [
    "np.mean(x,axis=0) #axis = 0 is for column"
   ]
  },
  {
   "cell_type": "code",
   "execution_count": 13,
   "id": "ad78c75c",
   "metadata": {},
   "outputs": [
    {
     "data": {
      "text/plain": [
       "array([ 2.,  7., 12., 17.])"
      ]
     },
     "execution_count": 13,
     "metadata": {},
     "output_type": "execute_result"
    }
   ],
   "source": [
    "np.mean(x,axis=1)"
   ]
  },
  {
   "cell_type": "code",
   "execution_count": 14,
   "id": "533c8b44",
   "metadata": {},
   "outputs": [
    {
     "data": {
      "text/plain": [
       "0"
      ]
     },
     "execution_count": 14,
     "metadata": {},
     "output_type": "execute_result"
    }
   ],
   "source": [
    "np.min(x)"
   ]
  },
  {
   "cell_type": "code",
   "execution_count": 17,
   "id": "0b777c38",
   "metadata": {},
   "outputs": [
    {
     "name": "stdout",
     "output_type": "stream",
     "text": [
      "[0 1 2 3 4]\n"
     ]
    }
   ],
   "source": [
    "print(np.min(x,axis=0))"
   ]
  },
  {
   "cell_type": "code",
   "execution_count": 18,
   "id": "36660bc5",
   "metadata": {},
   "outputs": [
    {
     "name": "stdout",
     "output_type": "stream",
     "text": [
      "[ 0  5 10 15]\n"
     ]
    }
   ],
   "source": [
    "print(np.min(x,axis=1))"
   ]
  },
  {
   "cell_type": "code",
   "execution_count": 19,
   "id": "9fc3b5b6",
   "metadata": {},
   "outputs": [
    {
     "name": "stdout",
     "output_type": "stream",
     "text": [
      "19\n"
     ]
    }
   ],
   "source": [
    "print(np.max(x))"
   ]
  },
  {
   "cell_type": "code",
   "execution_count": 20,
   "id": "2b7c4f50",
   "metadata": {},
   "outputs": [
    {
     "name": "stdout",
     "output_type": "stream",
     "text": [
      "[15 16 17 18 19]\n"
     ]
    }
   ],
   "source": [
    "print(np.max(x,axis=0))"
   ]
  },
  {
   "cell_type": "code",
   "execution_count": 21,
   "id": "8dce4a72",
   "metadata": {},
   "outputs": [
    {
     "name": "stdout",
     "output_type": "stream",
     "text": [
      "[ 4  9 14 19]\n"
     ]
    }
   ],
   "source": [
    "print(np.max(x,axis=1))"
   ]
  },
  {
   "cell_type": "code",
   "execution_count": 23,
   "id": "90dd0519",
   "metadata": {},
   "outputs": [
    {
     "name": "stdout",
     "output_type": "stream",
     "text": [
      "190\n"
     ]
    }
   ],
   "source": [
    "print(np.sum(x))"
   ]
  },
  {
   "cell_type": "code",
   "execution_count": 24,
   "id": "47007829",
   "metadata": {},
   "outputs": [
    {
     "name": "stdout",
     "output_type": "stream",
     "text": [
      "[30 34 38 42 46]\n"
     ]
    }
   ],
   "source": [
    "print(np.sum(x,axis=0))"
   ]
  },
  {
   "cell_type": "code",
   "execution_count": 25,
   "id": "d849b9d2",
   "metadata": {},
   "outputs": [
    {
     "name": "stdout",
     "output_type": "stream",
     "text": [
      "[10 35 60 85]\n"
     ]
    }
   ],
   "source": [
    "print(np.sum(x,axis=1))"
   ]
  },
  {
   "cell_type": "code",
   "execution_count": 26,
   "id": "89c01fe1",
   "metadata": {},
   "outputs": [
    {
     "name": "stdout",
     "output_type": "stream",
     "text": [
      "25th Percentile:-  4.75\n",
      "50th Percentile:-  9.5\n",
      "75th Percentile:-  14.25\n",
      "100th Percentile:-  19.0\n"
     ]
    }
   ],
   "source": [
    "p25 = np.percentile(x,25)\n",
    "p50 = np.percentile(x,50)\n",
    "p75 = np.percentile(x,75)\n",
    "p100 = np.percentile(x,100)\n",
    "\n",
    "print(\"25th Percentile:- \",p25)\n",
    "print(\"50th Percentile:- \",p50)\n",
    "print(\"75th Percentile:- \",p75)\n",
    "print(\"100th Percentile:- \",p100)"
   ]
  },
  {
   "cell_type": "markdown",
   "id": "10a6ec0e",
   "metadata": {},
   "source": [
    "Iterating through an array:-"
   ]
  },
  {
   "cell_type": "code",
   "execution_count": 28,
   "id": "0029394b",
   "metadata": {},
   "outputs": [
    {
     "name": "stdout",
     "output_type": "stream",
     "text": [
      "1 2 3 4 5 6 "
     ]
    }
   ],
   "source": [
    "arr1 = np.array([1,2,3,4,5,6])\n",
    "for i in arr1:\n",
    "  print(i,end=\" \")"
   ]
  },
  {
   "cell_type": "code",
   "execution_count": 29,
   "id": "1f633993",
   "metadata": {},
   "outputs": [
    {
     "name": "stdout",
     "output_type": "stream",
     "text": [
      "[0 1 2 3 4]\n",
      "[5 6 7 8 9]\n",
      "[10 11 12 13 14]\n",
      "[15 16 17 18 19]\n"
     ]
    }
   ],
   "source": [
    "arr1 = np.arange(20).reshape(4,5)\n",
    "for i in arr1:\n",
    "  print(i)"
   ]
  },
  {
   "cell_type": "code",
   "execution_count": 40,
   "id": "130878d5",
   "metadata": {},
   "outputs": [
    {
     "name": "stdout",
     "output_type": "stream",
     "text": [
      "[[ 5  6  7  8  9]\n",
      " [15 16 17 18 19]\n",
      " [25 26 27 28 29]\n",
      " [35 36 37 38 39]]\n"
     ]
    }
   ],
   "source": [
    "arr1 = np.arange(20).reshape(4,5)\n",
    "count = 5\n",
    "counter = 0\n",
    "for i in arr1:\n",
    "  arr1[counter]=i+count\n",
    "  counter+=1\n",
    "  count+=5\n",
    "print(arr1)"
   ]
  },
  {
   "cell_type": "code",
   "execution_count": 42,
   "id": "d157ffbc",
   "metadata": {},
   "outputs": [
    {
     "name": "stdout",
     "output_type": "stream",
     "text": [
      "[[ 5  6  7  8  9]\n",
      " [15 16 17 18 19]\n",
      " [25 26 27 28 29]\n",
      " [35 36 37 38 39]]\n"
     ]
    }
   ],
   "source": [
    "arr1 = np.arange(20).reshape(4,5)\n",
    "count = 5\n",
    "for i in range(0,len(arr1),):\n",
    "  arr1[i]=arr1[i]+count\n",
    "  count+=5\n",
    "print(arr1)"
   ]
  },
  {
   "cell_type": "markdown",
   "id": "5bd7fa14",
   "metadata": {},
   "source": [
    "Stacking of numpy array:-"
   ]
  },
  {
   "cell_type": "code",
   "execution_count": 47,
   "id": "4eb953ef",
   "metadata": {},
   "outputs": [],
   "source": [
    "a1 = np.arange(12).reshape(3,4)\n",
    "a2 = np.arange(12,24).reshape(3,4)"
   ]
  },
  {
   "cell_type": "code",
   "execution_count": 48,
   "id": "4d528722",
   "metadata": {},
   "outputs": [
    {
     "name": "stdout",
     "output_type": "stream",
     "text": [
      "[[ 0  1  2  3 12 13 14 15]\n",
      " [ 4  5  6  7 16 17 18 19]\n",
      " [ 8  9 10 11 20 21 22 23]]\n"
     ]
    }
   ],
   "source": [
    "a3 = np.hstack((a1,a2))\n",
    "print(a3)"
   ]
  },
  {
   "cell_type": "code",
   "execution_count": 49,
   "id": "1098d293",
   "metadata": {},
   "outputs": [
    {
     "name": "stdout",
     "output_type": "stream",
     "text": [
      "[[ 0  1  2  3]\n",
      " [ 4  5  6  7]\n",
      " [ 8  9 10 11]\n",
      " [12 13 14 15]\n",
      " [16 17 18 19]\n",
      " [20 21 22 23]]\n"
     ]
    }
   ],
   "source": [
    "a3 = np.vstack((a1,a2))\n",
    "print(a3)"
   ]
  },
  {
   "cell_type": "markdown",
   "id": "d9a69086",
   "metadata": {},
   "source": [
    "Splitting in an Array:-"
   ]
  },
  {
   "cell_type": "code",
   "execution_count": 58,
   "id": "edc22160",
   "metadata": {},
   "outputs": [
    {
     "name": "stdout",
     "output_type": "stream",
     "text": [
      "[[ 0  1  2  3]\n",
      " [ 4  5  6  7]\n",
      " [ 8  9 10 11]\n",
      " [12 13 14 15]\n",
      " [16 17 18 19]\n",
      " [20 21 22 23]]\n",
      "[array([[ 0,  1],\n",
      "       [ 4,  5],\n",
      "       [ 8,  9],\n",
      "       [12, 13],\n",
      "       [16, 17],\n",
      "       [20, 21]]), array([[ 2,  3],\n",
      "       [ 6,  7],\n",
      "       [10, 11],\n",
      "       [14, 15],\n",
      "       [18, 19],\n",
      "       [22, 23]])]\n",
      "[array([[ 0],\n",
      "       [ 4],\n",
      "       [ 8],\n",
      "       [12],\n",
      "       [16],\n",
      "       [20]]), array([[ 1],\n",
      "       [ 5],\n",
      "       [ 9],\n",
      "       [13],\n",
      "       [17],\n",
      "       [21]]), array([[ 2],\n",
      "       [ 6],\n",
      "       [10],\n",
      "       [14],\n",
      "       [18],\n",
      "       [22]]), array([[ 3],\n",
      "       [ 7],\n",
      "       [11],\n",
      "       [15],\n",
      "       [19],\n",
      "       [23]])]\n"
     ]
    }
   ],
   "source": [
    "a1 = np.arange(24).reshape(6,4)\n",
    "print(a1)\n",
    "print(np.hsplit(a1,2))\n",
    "print(np.hsplit(a1,4))"
   ]
  },
  {
   "cell_type": "code",
   "execution_count": 59,
   "id": "92f7224c",
   "metadata": {},
   "outputs": [
    {
     "name": "stdout",
     "output_type": "stream",
     "text": [
      "[[ 0  1  2  3]\n",
      " [ 4  5  6  7]\n",
      " [ 8  9 10 11]\n",
      " [12 13 14 15]\n",
      " [16 17 18 19]\n",
      " [20 21 22 23]]\n",
      "[array([[ 0,  1,  2,  3],\n",
      "       [ 4,  5,  6,  7],\n",
      "       [ 8,  9, 10, 11]]), array([[12, 13, 14, 15],\n",
      "       [16, 17, 18, 19],\n",
      "       [20, 21, 22, 23]])]\n",
      "[array([[0, 1, 2, 3],\n",
      "       [4, 5, 6, 7]]), array([[ 8,  9, 10, 11],\n",
      "       [12, 13, 14, 15]]), array([[16, 17, 18, 19],\n",
      "       [20, 21, 22, 23]])]\n",
      "[array([[0, 1, 2, 3]]), array([[4, 5, 6, 7]]), array([[ 8,  9, 10, 11]]), array([[12, 13, 14, 15]]), array([[16, 17, 18, 19]]), array([[20, 21, 22, 23]])]\n"
     ]
    }
   ],
   "source": [
    "a1 = np.arange(24).reshape(6,4)\n",
    "print(a1)\n",
    "print(np.vsplit(a1,2))\n",
    "print(np.vsplit(a1,3))\n",
    "print(np.vsplit(a1,6))\n"
   ]
  },
  {
   "cell_type": "markdown",
   "id": "5b7fa6d6",
   "metadata": {},
   "source": [
    "WAP which makes an array having corresponding max value out of two given arrays:-\n",
    "Input:-\n",
    "a = np.array([6,3,1,5,8])\n",
    "b = np.array([3,2,1,7,2])\n",
    "\n",
    "Output:-\n",
    "[6,3,1,7,8]"
   ]
  },
  {
   "cell_type": "code",
   "execution_count": 64,
   "id": "ea1e505a",
   "metadata": {},
   "outputs": [
    {
     "name": "stdout",
     "output_type": "stream",
     "text": [
      "[6, 3, 1, 7, 8]\n"
     ]
    }
   ],
   "source": [
    "a = np.array([6,3,1,5,8])\n",
    "b = np.array([3,2,1,7,2])\n",
    "c = list()\n",
    "for i in range(0,len(a),1):\n",
    "  c.append(max(a[i],b[i]))\n",
    "print(c)"
   ]
  },
  {
   "cell_type": "markdown",
   "id": "f2cd6c83",
   "metadata": {},
   "source": [
    "Write a python function that accepts infinite number of numpy arrays and do the vertical stack to them. Then return that new array as result. The functions only accepts the numpy array, otherwise raise error."
   ]
  },
  {
   "cell_type": "code",
   "execution_count": 6,
   "id": "4c1a511b",
   "metadata": {},
   "outputs": [
    {
     "name": "stdout",
     "output_type": "stream",
     "text": [
      "[[1 2 3 4 5 6]\n",
      " [2 3 4 5 6 2]\n",
      " [5 3 5 2 1 5]\n",
      " [0 2 5 2 6 3]]\n",
      "<class 'numpy.ndarray'>\n"
     ]
    }
   ],
   "source": [
    "import numpy as np\n",
    "def vs_infinite_array(*array):\n",
    "  vs_array = np.vstack(array)\n",
    "  return vs_array\n",
    "\n",
    "a1 = np.array([1,2,3,4,5,6])\n",
    "a2 = np.array([2,3,4,5,6,2])\n",
    "a3 = np.array([5,3,5,2,1,5])\n",
    "a4 = np.array([0,2,5,2,6,3])\n",
    "\n",
    "a5 = vs_infinite_array(a1,a2,a3,a4)\n",
    "print(a5)\n",
    "print(type(a5))"
   ]
  }
 ],
 "metadata": {
  "kernelspec": {
   "display_name": "Python 3",
   "language": "python",
   "name": "python3"
  },
  "language_info": {
   "codemirror_mode": {
    "name": "ipython",
    "version": 3
   },
   "file_extension": ".py",
   "mimetype": "text/x-python",
   "name": "python",
   "nbconvert_exporter": "python",
   "pygments_lexer": "ipython3",
   "version": "3.10.0"
  }
 },
 "nbformat": 4,
 "nbformat_minor": 5
}
