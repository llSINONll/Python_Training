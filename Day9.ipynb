{
 "cells": [
  {
   "cell_type": "markdown",
   "id": "629cbcb9",
   "metadata": {},
   "source": [
    "Numpy:-(CRUD operations) it has a class named nd(n-dimensional) array"
   ]
  },
  {
   "cell_type": "code",
   "execution_count": 1,
   "id": "df3240b6",
   "metadata": {},
   "outputs": [
    {
     "name": "stdout",
     "output_type": "stream",
     "text": [
      "1.26.0\n"
     ]
    }
   ],
   "source": [
    "import numpy\n",
    "print(numpy.__version__)"
   ]
  },
  {
   "cell_type": "markdown",
   "id": "447849c4",
   "metadata": {},
   "source": [
    "Creating an Array:-"
   ]
  },
  {
   "cell_type": "code",
   "execution_count": 2,
   "id": "319ccab6",
   "metadata": {},
   "outputs": [
    {
     "name": "stdout",
     "output_type": "stream",
     "text": [
      "[1 2 3 4 5 6]\n",
      "<class 'numpy.ndarray'>\n"
     ]
    }
   ],
   "source": [
    "import numpy as np\n",
    "x = np.array([1,2,3,4,5,6])\n",
    "print(x)\n",
    "print(type(x))"
   ]
  },
  {
   "cell_type": "code",
   "execution_count": 3,
   "id": "fc4ed09e",
   "metadata": {},
   "outputs": [
    {
     "name": "stdout",
     "output_type": "stream",
     "text": [
      "[0 1 2 3 4 5 6 7 8 9]\n"
     ]
    }
   ],
   "source": [
    "y = np.arange(10)\n",
    "print(y)"
   ]
  },
  {
   "cell_type": "code",
   "execution_count": 5,
   "id": "f110061d",
   "metadata": {},
   "outputs": [
    {
     "name": "stdout",
     "output_type": "stream",
     "text": [
      "[-5]\n"
     ]
    }
   ],
   "source": [
    "y = np.arange(-5,-10,-20)\n",
    "print(y)"
   ]
  },
  {
   "cell_type": "code",
   "execution_count": 10,
   "id": "6168af00",
   "metadata": {},
   "outputs": [
    {
     "name": "stdout",
     "output_type": "stream",
     "text": [
      "[[0.30503534 0.42474074 0.59176833]\n",
      " [0.82780572 0.7892385  0.90893877]\n",
      " [0.39492478 0.91996762 0.9449553 ]\n",
      " [0.01436329 0.36569895 0.46639498]]\n"
     ]
    }
   ],
   "source": [
    "x = np.random.random(size = (4,3))\n",
    "print(x)"
   ]
  },
  {
   "cell_type": "code",
   "execution_count": null,
   "id": "71ecdf50",
   "metadata": {},
   "outputs": [
    {
     "name": "stdout",
     "output_type": "stream",
     "text": [
      "[[31 23 42]\n",
      " [48 36 46]\n",
      " [15 29 32]\n",
      " [ 4  1 30]]\n"
     ]
    }
   ],
   "source": [
    "x = np.random.randint(50,size = (4,3)) #it'll take two arguments max range and size\n",
    "print(x)"
   ]
  },
  {
   "cell_type": "markdown",
   "id": "dfb6760b",
   "metadata": {},
   "source": [
    "WAP to create 3D numpy array with the dimension of 3x3x3 having values in between 15-20"
   ]
  },
  {
   "cell_type": "code",
   "execution_count": 16,
   "id": "8b416983",
   "metadata": {},
   "outputs": [
    {
     "name": "stdout",
     "output_type": "stream",
     "text": [
      "[[[17 15 15]\n",
      "  [17 19 16]\n",
      "  [17 17 16]]\n",
      "\n",
      " [[16 17 18]\n",
      "  [18 15 16]\n",
      "  [16 17 17]]\n",
      "\n",
      " [[18 19 19]\n",
      "  [16 16 17]\n",
      "  [17 15 18]]]\n"
     ]
    }
   ],
   "source": [
    "x = np.random.randint(15,20,size=(3,3,3))\n",
    "print(x)"
   ]
  },
  {
   "cell_type": "code",
   "execution_count": 17,
   "id": "80582145",
   "metadata": {},
   "outputs": [
    {
     "name": "stdout",
     "output_type": "stream",
     "text": [
      "[-15   5  25  45  65]\n"
     ]
    }
   ],
   "source": [
    "x = np.arange(-15,66,20)\n",
    "print(x)"
   ]
  },
  {
   "cell_type": "code",
   "execution_count": 22,
   "id": "e5f582b9",
   "metadata": {},
   "outputs": [
    {
     "name": "stdout",
     "output_type": "stream",
     "text": [
      "[[ 0  1  2  3  4  5  6  7  8  9]\n",
      " [10 11 12 13 14 15 16 17 18 19]]\n",
      "[[ 0  1  2  3]\n",
      " [ 4  5  6  7]\n",
      " [ 8  9 10 11]\n",
      " [12 13 14 15]\n",
      " [16 17 18 19]]\n",
      "[[ 0  1  2  3  4  5  6  7  8  9 10 11 12 13 14 15 16 17 18 19]]\n",
      "[[[ 0  1  2  3  4]\n",
      "  [ 5  6  7  8  9]]\n",
      "\n",
      " [[10 11 12 13 14]\n",
      "  [15 16 17 18 19]]]\n"
     ]
    }
   ],
   "source": [
    "x = np.arange(20).reshape(2,10)\n",
    "print(x)\n",
    "x = np.arange(20).reshape(5,4)\n",
    "print(x)\n",
    "x = np.arange(20).reshape(1,20)\n",
    "print(x)\n",
    "\n",
    "\n",
    "x = np.arange(20).reshape(2,2,5)\n",
    "print(x)\n",
    "\n",
    "#in reshape it the multiplication of the no. of elements in the new shaped array of another dimension should be equal to the original 1D one"
   ]
  },
  {
   "cell_type": "code",
   "execution_count": 26,
   "id": "7c0800f9",
   "metadata": {},
   "outputs": [
    {
     "name": "stdout",
     "output_type": "stream",
     "text": [
      "[[[ 0  1  2  3  4]\n",
      "  [ 5  6  7  8  9]]\n",
      "\n",
      " [[10 11 12 13 14]\n",
      "  [15 16 17 18 19]]]\n",
      "19\n",
      "5\n",
      "4\n",
      "3\n",
      "3\n"
     ]
    }
   ],
   "source": [
    "x = np.arange(20).reshape(2,2,5)\n",
    "print(x)\n",
    "print(x[-1][-1][4])\n",
    "print(x[-2][-1][-5])\n",
    "print(x[0][0][4])\n",
    "print(x[0][-2][-2])\n",
    "print(x[-2][-2][-2])"
   ]
  },
  {
   "cell_type": "code",
   "execution_count": null,
   "id": "73f9a890",
   "metadata": {},
   "outputs": [],
   "source": []
  }
 ],
 "metadata": {
  "kernelspec": {
   "display_name": "Python 3",
   "language": "python",
   "name": "python3"
  },
  "language_info": {
   "codemirror_mode": {
    "name": "ipython",
    "version": 3
   },
   "file_extension": ".py",
   "mimetype": "text/x-python",
   "name": "python",
   "nbconvert_exporter": "python",
   "pygments_lexer": "ipython3",
   "version": "3.10.0"
  }
 },
 "nbformat": 4,
 "nbformat_minor": 5
}
