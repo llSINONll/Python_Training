{
 "cells": [
  {
   "cell_type": "markdown",
   "id": "71c78fd2",
   "metadata": {},
   "source": [
    "Deleting element from a list:- "
   ]
  },
  {
   "cell_type": "code",
   "execution_count": null,
   "id": "8c9ebd50",
   "metadata": {},
   "outputs": [
    {
     "name": "stdout",
     "output_type": "stream",
     "text": [
      "[1, 2, 3, 5, 6, 7, 8, 9]\n"
     ]
    },
    {
     "ename": "NameError",
     "evalue": "name 'lst' is not defined",
     "output_type": "error",
     "traceback": [
      "\u001b[1;31m---------------------------------------------------------------------------\u001b[0m",
      "\u001b[1;31mNameError\u001b[0m                                 Traceback (most recent call last)",
      "Cell \u001b[1;32mIn[2], line 6\u001b[0m\n\u001b[0;32m      3\u001b[0m \u001b[38;5;28mprint\u001b[39m(lst)\n\u001b[0;32m      5\u001b[0m \u001b[38;5;28;01mdel\u001b[39;00m lst\n\u001b[1;32m----> 6\u001b[0m \u001b[38;5;28mprint\u001b[39m(\u001b[43mlst\u001b[49m)\n",
      "\u001b[1;31mNameError\u001b[0m: name 'lst' is not defined"
     ]
    }
   ],
   "source": [
    "lst = [1,2,3,4,5,6,7,8,9]\n",
    "del lst[3]\n",
    "print(lst)  #deletes a particular value at an index\n",
    "\n",
    "del lst\n",
    "print(lst) #deletes whole list"
   ]
  },
  {
   "cell_type": "code",
   "execution_count": null,
   "id": "784a98e0",
   "metadata": {},
   "outputs": [
    {
     "name": "stdout",
     "output_type": "stream",
     "text": [
      "3\n",
      "[1, 2, 4, 5, 6, 7, 8, 9]\n"
     ]
    }
   ],
   "source": [
    "lst = [1,2,3,4,5,6,7,8,9]\n",
    "print(lst.pop(2))  #pops out a value from a llst at a particular index and also returns it\n",
    "print(lst)"
   ]
  },
  {
   "cell_type": "code",
   "execution_count": 7,
   "id": "17510e4c",
   "metadata": {},
   "outputs": [
    {
     "name": "stdout",
     "output_type": "stream",
     "text": [
      "[[1, 1], 1, 2, 3, 4, 5, 6, 7, 8, 9]\n"
     ]
    },
    {
     "ename": "ValueError",
     "evalue": "list.remove(x): x not in list",
     "output_type": "error",
     "traceback": [
      "\u001b[1;31m---------------------------------------------------------------------------\u001b[0m",
      "\u001b[1;31mValueError\u001b[0m                                Traceback (most recent call last)",
      "Cell \u001b[1;32mIn[7], line 4\u001b[0m\n\u001b[0;32m      2\u001b[0m lst\u001b[38;5;241m.\u001b[39mremove(\u001b[38;5;241m1\u001b[39m) \u001b[38;5;66;03m#it removes the frist particular value given to it \u001b[39;00m\n\u001b[0;32m      3\u001b[0m \u001b[38;5;28mprint\u001b[39m(lst)\n\u001b[1;32m----> 4\u001b[0m \u001b[43mlst\u001b[49m\u001b[38;5;241;43m.\u001b[39;49m\u001b[43mremove\u001b[49m\u001b[43m(\u001b[49m\u001b[38;5;241;43m10\u001b[39;49m\u001b[43m)\u001b[49m\n\u001b[0;32m      5\u001b[0m \u001b[38;5;28mprint\u001b[39m(lst)\n",
      "\u001b[1;31mValueError\u001b[0m: list.remove(x): x not in list"
     ]
    }
   ],
   "source": [
    "lst = [[1,1],1,1,2,3,4,5,6,7,8,9]\n",
    "lst.remove(1) #it removes the frist particular value given to it \n",
    "print(lst)\n",
    "lst.remove(10)\n",
    "print(lst)"
   ]
  },
  {
   "cell_type": "code",
   "execution_count": 9,
   "id": "4365e9a5",
   "metadata": {},
   "outputs": [
    {
     "name": "stdout",
     "output_type": "stream",
     "text": [
      "3\n",
      "2\n",
      "0\n"
     ]
    }
   ],
   "source": [
    "lst = [1,1,1,2,2,3,4,5,6,7,8,9]\n",
    "print(lst.count(1))\n",
    "print(lst.count(2))\n",
    "print(lst.count(10))"
   ]
  },
  {
   "cell_type": "code",
   "execution_count": 13,
   "id": "fd281deb",
   "metadata": {},
   "outputs": [
    {
     "name": "stdout",
     "output_type": "stream",
     "text": [
      "[9, 8, 7, 6, 5, 4, 3, 2, 1]\n",
      "[9, 8, 7, 6, 5, 4, 3, 2, 1]\n"
     ]
    }
   ],
   "source": [
    "lst = [1,2,3,4,5,6,7,8,9]\n",
    "print(lst[::-1])  #gives a new reversed list \n",
    "lst.reverse() #reverse the original list\n",
    "print(lst)"
   ]
  },
  {
   "cell_type": "code",
   "execution_count": null,
   "id": "2b3b4e9e",
   "metadata": {},
   "outputs": [
    {
     "ename": "ValueError",
     "evalue": "10 is not in list",
     "output_type": "error",
     "traceback": [
      "\u001b[1;31m---------------------------------------------------------------------------\u001b[0m",
      "\u001b[1;31mValueError\u001b[0m                                Traceback (most recent call last)",
      "Cell \u001b[1;32mIn[15], line 4\u001b[0m\n\u001b[0;32m      1\u001b[0m lst \u001b[38;5;241m=\u001b[39m [\u001b[38;5;241m1\u001b[39m,\u001b[38;5;241m2\u001b[39m,\u001b[38;5;241m3\u001b[39m,\u001b[38;5;241m4\u001b[39m,\u001b[38;5;241m5\u001b[39m,\u001b[38;5;241m6\u001b[39m,\u001b[38;5;241m7\u001b[39m,\u001b[38;5;241m8\u001b[39m,\u001b[38;5;241m9\u001b[39m]\n\u001b[0;32m      2\u001b[0m lst\u001b[38;5;241m.\u001b[39mindex(\u001b[38;5;241m2\u001b[39m)\n\u001b[1;32m----> 4\u001b[0m \u001b[43mlst\u001b[49m\u001b[38;5;241;43m.\u001b[39;49m\u001b[43mindex\u001b[49m\u001b[43m(\u001b[49m\u001b[38;5;241;43m10\u001b[39;49m\u001b[43m)\u001b[49m\n",
      "\u001b[1;31mValueError\u001b[0m: 10 is not in list"
     ]
    }
   ],
   "source": [
    "lst = [1,2,3,4,5,6,7,8,9]\n",
    "lst.index(2)  #gives the index of a particular value\n",
    "\n",
    "lst.index(10)"
   ]
  },
  {
   "cell_type": "markdown",
   "id": "b6caaadb",
   "metadata": {},
   "source": [
    "Swap the alternate values in a list"
   ]
  },
  {
   "cell_type": "code",
   "execution_count": 17,
   "id": "7f6daf4a",
   "metadata": {},
   "outputs": [
    {
     "name": "stdout",
     "output_type": "stream",
     "text": [
      "[2, 1, 4, 3, 6, 5, 8, 7, 0, 9]\n"
     ]
    }
   ],
   "source": [
    "lst = [1,2,3,4,5,6,7,8,9,0]\n",
    "for i in range(0,len(lst),2):\n",
    "  lst[i],lst[i+1] = lst[i+1],lst[i]\n",
    "\n",
    "print(lst)"
   ]
  },
  {
   "cell_type": "markdown",
   "id": "614ca6bd",
   "metadata": {},
   "source": [
    "WAP which will print the largest element in the list"
   ]
  },
  {
   "cell_type": "code",
   "execution_count": 19,
   "id": "05657c8e",
   "metadata": {},
   "outputs": [
    {
     "name": "stdout",
     "output_type": "stream",
     "text": [
      "9\n"
     ]
    }
   ],
   "source": [
    "lst = [1,2,3,4,5,6,7,8,9]\n",
    "max = lst[0]\n",
    "\n",
    "for i in range(0,len(lst)):\n",
    "  if(lst[i]>max):\n",
    "    max=lst[i]\n",
    "\n",
    "print(max)"
   ]
  },
  {
   "cell_type": "markdown",
   "id": "7d96322d",
   "metadata": {},
   "source": [
    "WAP which will print the max even no. and max odd no. in the list"
   ]
  },
  {
   "cell_type": "code",
   "execution_count": 20,
   "id": "9aed3926",
   "metadata": {},
   "outputs": [
    {
     "name": "stdout",
     "output_type": "stream",
     "text": [
      "Max even:-  8\n",
      "Max odd:-  9\n"
     ]
    }
   ],
   "source": [
    "lst = [1,2,3,4,5,6,7,8,9]\n",
    "max_even = lst[0]\n",
    "max_odd = lst[0]\n",
    "\n",
    "for i in range(0,len(lst)):\n",
    "  if lst[i]%2==0:\n",
    "    if lst[i]>max_even:\n",
    "      max_even = lst[i]\n",
    "  else:\n",
    "    if lst[i]>max_odd:\n",
    "      max_odd = lst[i]\n",
    "\n",
    "print(\"Max even:- \", max_even)\n",
    "print(\"Max odd:- \", max_odd)\n",
    "\n"
   ]
  },
  {
   "cell_type": "markdown",
   "id": "ef197e37",
   "metadata": {},
   "source": [
    "Find the second max no. in a list"
   ]
  },
  {
   "cell_type": "code",
   "execution_count": 24,
   "id": "58d71003",
   "metadata": {},
   "outputs": [
    {
     "name": "stdout",
     "output_type": "stream",
     "text": [
      "9\n"
     ]
    }
   ],
   "source": [
    "lst = [1,2,3,4000,4,5,6,7,8,9]\n",
    "max = 0\n",
    "sec_max = 0\n",
    "\n",
    "for i in range(0,len(lst)):\n",
    "  if lst[i] > sec_max:\n",
    "    sec_max = lst[i]\n",
    "  if sec_max > max:\n",
    "    max,sec_max=sec_max,max\n",
    "print(sec_max)"
   ]
  },
  {
   "cell_type": "markdown",
   "id": "19380679",
   "metadata": {},
   "source": [
    "WAP to give a list of no.s from a list which is largest if we compare all right no.s in the list "
   ]
  },
  {
   "cell_type": "code",
   "execution_count": 30,
   "id": "7c35701b",
   "metadata": {},
   "outputs": [
    {
     "name": "stdout",
     "output_type": "stream",
     "text": [
      "[9, 4000]\n"
     ]
    }
   ],
   "source": [
    "lst = [1,2,3,4000,4,5,6,7,8,9]\n",
    "lst.reverse()\n",
    "nlst = [lst[0]]\n",
    "max = nlst[0]\n",
    "for i in range(len(lst)):\n",
    "  if max<lst[i]:\n",
    "    max=lst[i]\n",
    "    nlst.append(lst[i])\n",
    "\n",
    "print(nlst)\n",
    "\n"
   ]
  },
  {
   "cell_type": "markdown",
   "id": "b8b4d5c4",
   "metadata": {},
   "source": [
    "WAP in which make a list from a list in which the square of each no. is present there"
   ]
  },
  {
   "cell_type": "code",
   "execution_count": 31,
   "id": "e66d9998",
   "metadata": {},
   "outputs": [
    {
     "name": "stdout",
     "output_type": "stream",
     "text": [
      "[1, 4, 9, 16, 25, 36, 49]\n"
     ]
    }
   ],
   "source": [
    "lst1 = [1,2,3,4,5,6,7]\n",
    "lst2 = []\n",
    "\n",
    "for i in lst1:\n",
    "  lst2.append(i*i)\n",
    "\n",
    "print(lst2)"
   ]
  },
  {
   "cell_type": "markdown",
   "id": "2789b144",
   "metadata": {},
   "source": [
    "Print the sum of the factors present in a list of a no."
   ]
  },
  {
   "cell_type": "code",
   "execution_count": null,
   "id": "2ed29b4c",
   "metadata": {},
   "outputs": [],
   "source": [
    "no = int(input(\"Enter the no.:- \"))\n",
    "lst = [1,2,3,4,5,6,7,8]"
   ]
  },
  {
   "cell_type": "markdown",
   "id": "0ab4e8d3",
   "metadata": {},
   "source": [
    "List comprehension :- [espression forloop condition]"
   ]
  },
  {
   "cell_type": "code",
   "execution_count": 32,
   "id": "53b04d7c",
   "metadata": {},
   "outputs": [
    {
     "name": "stdout",
     "output_type": "stream",
     "text": [
      "[1, 4, 9, 16, 25, 36]\n"
     ]
    }
   ],
   "source": [
    "lst = [1,2,3,4,5,6]\n",
    "lst1=[i*i for i in lst]\n",
    "print(lst1)"
   ]
  },
  {
   "cell_type": "markdown",
   "id": "ca91d992",
   "metadata": {},
   "source": [
    "using list comprehension seperate +ve no.s list and -ve no.s list"
   ]
  },
  {
   "cell_type": "code",
   "execution_count": 34,
   "id": "0e18a38a",
   "metadata": {},
   "outputs": [
    {
     "name": "stdout",
     "output_type": "stream",
     "text": [
      "[1, 2, 3, 4]\n",
      "[-1, -2, -3, -4]\n"
     ]
    }
   ],
   "source": [
    "lst = [-1,-2,-3,-4,1,2,3,4]\n",
    "lst_p = [i for i in lst if i>0]\n",
    "lst_n = [i for i in lst if i<0]\n",
    "\n",
    "print(lst_p)\n",
    "print(lst_n)"
   ]
  },
  {
   "cell_type": "code",
   "execution_count": 35,
   "id": "4a0f0f8d",
   "metadata": {},
   "outputs": [
    {
     "name": "stdout",
     "output_type": "stream",
     "text": [
      "['even', 'odd', 'even', 'odd', 'even', 'odd', 'even']\n"
     ]
    }
   ],
   "source": [
    "lst = [2,3,4,5,6,7,8]\n",
    "lst1 = [\"even\" if i%2==0 else \"odd\" for i in lst]\n",
    "print(lst1)"
   ]
  },
  {
   "cell_type": "code",
   "execution_count": 1,
   "id": "1ddb4027",
   "metadata": {},
   "outputs": [
    {
     "name": "stdout",
     "output_type": "stream",
     "text": [
      "8\n",
      "35\n",
      "2\n"
     ]
    }
   ],
   "source": [
    "lst = [2,3,4,5,6,7,8]\n",
    "print(max(lst))\n",
    "print(sum(lst))\n",
    "print(min(lst))"
   ]
  },
  {
   "cell_type": "code",
   "execution_count": 2,
   "id": "cd8f8299",
   "metadata": {},
   "outputs": [
    {
     "name": "stdout",
     "output_type": "stream",
     "text": [
      "[9, 8, 5, 5]\n"
     ]
    }
   ],
   "source": [
    "lst = [[3,4,6,9], [4,5,6,8], [3,5,2,1], [3,5]]\n",
    "lst1 = [max(i) for i in lst]\n",
    "print(lst1)"
   ]
  },
  {
   "cell_type": "code",
   "execution_count": null,
   "id": "c8a7614f",
   "metadata": {},
   "outputs": [
    {
     "name": "stdout",
     "output_type": "stream",
     "text": [
      "[12, 5, 9, 8]\n"
     ]
    }
   ],
   "source": [
    "lst = [[3,4,6,9], [4,5,6,8], [3,5,2,1], [3,5]]\n",
    "lst1 = []\n",
    "for i in range(0,len(lst)):\n",
    "  odd = 0\n",
    "  for j in lst[i]:\n",
    "    if j%2!=0:\n",
    "      odd+=j\n",
    "  lst1.append(odd)\n",
    "\n",
    "print(lst1)"
   ]
  },
  {
   "cell_type": "markdown",
   "id": "c7ac92a4",
   "metadata": {},
   "source": [
    "Q. swap the even index values of two lists inside a list of list"
   ]
  },
  {
   "cell_type": "code",
   "execution_count": null,
   "id": "b6d90834",
   "metadata": {},
   "outputs": [
    {
     "name": "stdout",
     "output_type": "stream",
     "text": [
      "[[4, 4, 6, 9], [3, 5, 6, 8], [3, 5, 2, 1], [3, 5, 1, 4]]\n"
     ]
    }
   ],
   "source": [
    "lst = [[3,4,6,9], [4,5,6,8], [3,5,1,1], [3,5,2,4]]\n",
    "\n",
    "for i in range(0,len(lst),2):\n",
    "  for j in range(0,len(lst[i]),2):\n",
    "    (lst[i])[j], (lst[i+1])[j] = (lst[i+1])[j], (lst[i])[j]\n",
    "print(lst)\n"
   ]
  }
 ],
 "metadata": {
  "kernelspec": {
   "display_name": "Python 3",
   "language": "python",
   "name": "python3"
  },
  "language_info": {
   "codemirror_mode": {
    "name": "ipython",
    "version": 3
   },
   "file_extension": ".py",
   "mimetype": "text/x-python",
   "name": "python",
   "nbconvert_exporter": "python",
   "pygments_lexer": "ipython3",
   "version": "3.10.0"
  }
 },
 "nbformat": 4,
 "nbformat_minor": 5
}
